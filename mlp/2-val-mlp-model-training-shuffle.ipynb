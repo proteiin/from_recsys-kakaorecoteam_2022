{
 "cells": [
  {
   "cell_type": "code",
   "execution_count": 1,
   "id": "bad72042",
   "metadata": {},
   "outputs": [],
   "source": [
    "import h5py\n",
    "import pandas as pd\n",
    "import json\n",
    "import numpy as np\n",
    "import numpy as np\n",
    "from sklearn.feature_extraction.text import CountVectorizer\n",
    "import scipy.sparse as ssp\n",
    "from sklearn.preprocessing import normalize\n",
    "from torch.utils.data import Dataset, DataLoader\n",
    "from sklearn.utils import shuffle\n",
    "import pickle\n",
    "import pandas as pd\n",
    "import torch.nn as nn\n",
    "import torch.nn.functional as F\n",
    "import torch\n",
    "import numpy as np\n",
    "import itertools\n",
    "from torch.utils.data import Dataset, DataLoader\n",
    "from scipy.sparse import coo_matrix, csr_matrix\n",
    "from collections import Counter\n",
    "import pickle\n",
    "from sklearn.utils import shuffle\n",
    "from os.path import join as pjoin\n",
    "from tqdm import tqdm\n",
    "import os\n",
    "import joblib\n",
    "os.environ['CUDA_LAUNCH_BLOCKING'] = '1'\n",
    "import importlib \n",
    "from sklearn.preprocessing import normalize as sk_normalize\n",
    "import pytorch_lightning as pl\n",
    "from os.path import join as pjoin\n",
    "from scipy import sparse"
   ]
  },
  {
   "cell_type": "code",
   "execution_count": 2,
   "id": "fe066461",
   "metadata": {},
   "outputs": [
    {
     "data": {
      "text/plain": [
       "1657081930"
      ]
     },
     "execution_count": 2,
     "metadata": {},
     "output_type": "execute_result"
    }
   ],
   "source": [
    "import time\n",
    "int(time.time())"
   ]
  },
  {
   "cell_type": "code",
   "execution_count": 3,
   "id": "3469dd0d",
   "metadata": {},
   "outputs": [],
   "source": [
    "torch.cuda.set_device(1)"
   ]
  },
  {
   "cell_type": "code",
   "execution_count": 4,
   "id": "0b6b22ca",
   "metadata": {},
   "outputs": [],
   "source": [
    "fname = \"procseed_data_with_aug\""
   ]
  },
  {
   "cell_type": "code",
   "execution_count": 5,
   "id": "31c55af9",
   "metadata": {},
   "outputs": [],
   "source": [
    "n_models = 3 "
   ]
  },
  {
   "cell_type": "code",
   "execution_count": 6,
   "id": "9a09587f",
   "metadata": {},
   "outputs": [],
   "source": [
    "lm_feats = joblib.load('%s/lm_feats' % fname)"
   ]
  },
  {
   "cell_type": "code",
   "execution_count": 7,
   "id": "cbc07ec2",
   "metadata": {},
   "outputs": [],
   "source": [
    "tr_ds = joblib.load('%s/tr_ds' % fname)\n",
    "val_ds = joblib.load(\"%s/val_ds\" % fname) \n",
    "id2idx = joblib.load('%s/id2idx' % fname)\n",
    "idx2id = {y:x for (x,y) in id2idx.items()}\n",
    "n_items = len(id2idx)"
   ]
  },
  {
   "cell_type": "code",
   "execution_count": 8,
   "id": "feb63a9a",
   "metadata": {},
   "outputs": [],
   "source": [
    "val_csv = joblib.load(\"%s/val_csv\" % fname)\n",
    "tr_csv = joblib.load('%s/tr_csv' % fname)"
   ]
  },
  {
   "cell_type": "code",
   "execution_count": 9,
   "id": "409cc6a2",
   "metadata": {
    "scrolled": true
   },
   "outputs": [
    {
     "name": "stdout",
     "output_type": "stream",
     "text": [
      "item_last_20\n",
      "item_last_5\n",
      "item_last_2\n",
      "item_last_1\n",
      "item_last_5_feats\n",
      "item_last_3_feats\n",
      "item_last_1_feats\n",
      "item_last_20\n",
      "item_last_5\n",
      "item_last_2\n",
      "item_last_1\n",
      "item_last_5_feats\n",
      "item_last_3_feats\n",
      "item_last_1_feats\n",
      "item_last_20\n",
      "item_last_5\n",
      "item_last_2\n",
      "item_last_1\n",
      "item_last_5_feats\n",
      "item_last_3_feats\n",
      "item_last_1_feats\n"
     ]
    }
   ],
   "source": [
    "lr = 1.5 * 1e-4\n",
    "import mlps\n",
    "importlib.reload(mlps)\n",
    "\n",
    "def get_model(dim=256):\n",
    "    return mlps.MLP2(lm_feats.toarray(), tr_ds.matrices, \n",
    "                    tr_ds.categoricals,  \n",
    "                    tr_ds.tr_scalar,\n",
    "                    n_items=n_items, \n",
    "                    dim=np.random.choice([256]), \n",
    "                    layer_dim=np.random.choice([3000]),\n",
    "                    dropout=np.random.choice([0.3, 0.35]),\n",
    "                    use_cat=False)\n",
    "\n",
    "mlp_models = [get_model() for x in range(n_models)]\n",
    "\n",
    "def get_opts(model):\n",
    "    wd = np.random.choice([1e-3])\n",
    "    return torch.optim.Adam(model.parameters(),  lr=lr, weight_decay=wd)\n",
    "    \n",
    "opts = [get_opts(model) for model in mlp_models]\n",
    "\n",
    "for m in mlp_models:\n",
    "    m.cuda()\n",
    "    m.train()\n",
    "\n",
    "lf = torch.nn.CrossEntropyLoss()\n"
   ]
  },
  {
   "cell_type": "markdown",
   "id": "57b61d2f",
   "metadata": {},
   "source": [
    "이렇게 3개고 last view만 aug해줬을 때 성능이 0.1928이 나옴?\n",
    "0.3, 0.35, 0.3 \n",
    "5e-3, 5e-3 3e-3"
   ]
  },
  {
   "cell_type": "code",
   "execution_count": 10,
   "id": "8b94b583",
   "metadata": {},
   "outputs": [],
   "source": [
    "tr_dls = [DataLoader(tr_ds,\n",
    "                   batch_size=256, shuffle=True,\n",
    "                   num_workers=2, prefetch_factor=2,\n",
    "#                    persistent_workers=True,\n",
    "                   pin_memory=True) for _ in range(n_models)]"
   ]
  },
  {
   "cell_type": "code",
   "execution_count": 11,
   "id": "f9211e48",
   "metadata": {},
   "outputs": [],
   "source": [
    "def validate(model, val_ds, use_filter=True, skip_val_only=False):\n",
    "    hr = []\n",
    "    model = model.eval()\n",
    "    s = 0\n",
    "    tot_mrr = []\n",
    "    ii = 0\n",
    "    for input in DataLoader(val_ds, batch_size=250, shuffle=False):\n",
    "        (target_idx, _), (ret_mat, ret_cat, ret_scalar) = input\n",
    "        for k in ret_mat:\n",
    "            ret_mat[k] = ret_mat[k].cuda()\n",
    "        for k in ret_cat:\n",
    "            ret_cat[k] = ret_cat[k].cuda()\n",
    "#         ret_cat = {}\n",
    "        ret_scalar = ret_scalar.cuda()\n",
    "        ret = model.forward(ret_mat, ret_cat, ret_scalar,)\n",
    "        ret[ret_mat['item_bow'].bool()] = -1000000.0\n",
    "#         ret[:, ~z] = -10000000.0\n",
    "        top_rec = (-ret).argsort(-1)[:, :100].cpu()\n",
    "\n",
    "        \n",
    "        if skip_val_only:\n",
    "            top_rec = top_rec[target_idx != 29999]\n",
    "            target_idx = target_idx[target_idx != 29999]\n",
    "            \n",
    "        mrr = (top_rec == target_idx.unsqueeze(1)).float().numpy() \n",
    "        mrr = (mrr / np.expand_dims(np.arange(1, 1 + 100), 0))\n",
    "        mrr = mrr.sum(-1)\n",
    "        tot_mrr.extend(mrr.tolist())\n",
    "#         break\n",
    "    model = model.train()\n",
    "    return np.mean(tot_mrr)"
   ]
  },
  {
   "cell_type": "code",
   "execution_count": 12,
   "id": "77fc147d",
   "metadata": {},
   "outputs": [],
   "source": [
    "def flatten(x):\n",
    "    ret = []\n",
    "    for k in x:\n",
    "        ret.extend(k)\n",
    "    return ret"
   ]
  },
  {
   "cell_type": "code",
   "execution_count": 13,
   "id": "e4cbeaf8",
   "metadata": {},
   "outputs": [],
   "source": [
    "def validate_models(models, val_ds, use_filter=True, skip_val_only=False, r=None):\n",
    "    hr = []\n",
    "    for model in models:\n",
    "        model = model.eval()\n",
    "    s = 0\n",
    "    tot_mrr = []\n",
    "    ii = 0\n",
    "    for input in DataLoader(val_ds, batch_size=250, shuffle=False):\n",
    "        (target_idx, _), (ret_mat, ret_cat, ret_scalar) = input\n",
    "        for k in ret_mat:\n",
    "            ret_mat[k] = ret_mat[k].cuda()\n",
    "        for k in ret_cat:\n",
    "            ret_cat[k] = ret_cat[k].cuda()\n",
    "        ret_scalar = ret_scalar.cuda()\n",
    "        rret = []\n",
    "        for model in models:\n",
    "            ret = model.forward(ret_mat, ret_cat, ret_scalar,)\n",
    "            rret.append(ret)\n",
    "        ret = torch.stack(rret)\n",
    "        ret = torch.mean(ret, 0)\n",
    "        ret[ret_mat['item_bow'].bool()] = -10000.0\n",
    "        if r is not None:\n",
    "            print(r.shape)\n",
    "            ret[:, ~r] = -100000.0\n",
    "        top_rec = (-ret).argsort(-1)[:, :100].detach().cpu()\n",
    "\n",
    "#         if skip_val_only:\n",
    "#         top_rec = top_rec[target_idx != 29999]\n",
    "#         target_idx = target_idx[target_idx != 29999]\n",
    "\n",
    "        mrr = (top_rec == target_idx.unsqueeze(1)).float().numpy()\n",
    "        hitst = mrr[:, :5].sum(-1)\n",
    "        mrr = (mrr / np.expand_dims(np.arange(1, 1 + 100), 0)).sum(-1)\n",
    "        tot_mrr.extend(mrr.tolist())\n",
    "        hr.extend(hitst)\n",
    "    for model in models:\n",
    "        model = model.train()\n",
    "    return np.mean(tot_mrr), np.mean(hr)\n"
   ]
  },
  {
   "cell_type": "code",
   "execution_count": 13,
   "id": "ab2e860a",
   "metadata": {},
   "outputs": [
    {
     "data": {
      "text/plain": [
       "(0.00019412864372688891, 0.0)"
      ]
     },
     "execution_count": 13,
     "metadata": {},
     "output_type": "execute_result"
    }
   ],
   "source": [
    "validate_models(mlp_models, val_ds)"
   ]
  },
  {
   "cell_type": "code",
   "execution_count": 14,
   "id": "95ac82ff",
   "metadata": {},
   "outputs": [
    {
     "name": "stderr",
     "output_type": "stream",
     "text": [
      "100%|██████████████████████████████████████████| 1183/1183 [03:07<00:00,  6.31it/s]\n",
      "100%|██████████████████████████████████████████| 1183/1183 [03:04<00:00,  6.40it/s]\n",
      "100%|██████████████████████████████████████████| 1183/1183 [03:03<00:00,  6.45it/s]\n"
     ]
    }
   ],
   "source": [
    "loss_ = np.log(n_items)\n",
    "max_mrr = -1\n",
    "for epoch in range(1):\n",
    "    it = 0\n",
    "    iidx = 0\n",
    "    \n",
    "    for tr_dl, model, optimizer in zip(tr_dls, mlp_models, opts):\n",
    "        pbar = tqdm(tr_dl)\n",
    "        for x in pbar:\n",
    "            (target_idx, mask), (mats, cats, scalars) = x\n",
    "            target_idx = target_idx.cuda()\n",
    "            mask = mask.cuda().squeeze(1)\n",
    "            for k in mats:\n",
    "                mats[k] = mats[k].cuda()\n",
    "            for k in cats:\n",
    "                cats[k] = cats[k].cuda()\n",
    "            scalars = scalars.cuda()\n",
    "            model.zero_grad()\n",
    "            pred = model(mats, cats, scalars)\n",
    "            pred[mask.bool()] = -10000.0\n",
    "            loss = lf(pred, target_idx)\n",
    "            loss.mean().backward()\n",
    "            optimizer.step()\n",
    "        loss_ = 0.99 * loss_  + 0.01 * loss.detach().cpu().numpy()\n",
    "        pbar.set_postfix({'loss:': \"%0.4f\" % loss_})\n",
    "\n",
    "    if epoch < 10:\n",
    "        continue\n",
    "    mrr, hr = validate_models(mlp_models, val_ds)\n",
    "    if mrr >= max_mrr:\n",
    "        max_mrr = mrr\n",
    "        torch.save(mlp_models, \"val_mlp_shuffle\")\n",
    "    print(\"[ITER %d] VAL MRR:\" % (1 + epoch), mrr, \"HR\", hr)\n",
    "    model = model.train()\n",
    "    model.cuda()\n"
   ]
  },
  {
   "cell_type": "code",
   "execution_count": null,
   "id": "213c5999",
   "metadata": {},
   "outputs": [],
   "source": [
    "def validate_models(models, val_ds, use_filter=True, skip_val_only=False, r=None):\n",
    "    hr = []\n",
    "    for model in models:\n",
    "        model = model.eval()\n",
    "    s = 0\n",
    "    tot_mrr = []\n",
    "    ii = 0\n",
    "    pbar = tqdm(DataLoader(val_ds, batch_size=250, shuffle=False))\n",
    "    for input in pbar:\n",
    "        (target_idx, _), (ret_mat, ret_cat, ret_scalar) = input\n",
    "        for k in ret_mat:\n",
    "            ret_mat[k] = ret_mat[k].cuda()\n",
    "        for k in ret_cat:\n",
    "            ret_cat[k] = ret_cat[k].cuda()\n",
    "        ret_scalar = ret_scalar.cuda()\n",
    "        rret = []\n",
    "        for model in models:\n",
    "            ret = model.forward(ret_mat, ret_cat, ret_scalar,)\n",
    "            rret.append(ret)\n",
    "        ret = torch.stack(rret)\n",
    "        ret = torch.mean(ret, 0)\n",
    "#         if use_filter:\n",
    "#             ret[:, ~rec_cand_mask] = -1000000.0\n",
    "        ret[ret_mat['item_bow'].bool()] = -10000.0\n",
    "        if r is not None:\n",
    "            print(r.shape)\n",
    "            ret[:, ~r] = -100000.0\n",
    "        top_rec = (-ret).argsort(-1)[:, :100].detach().cpu()\n",
    "\n",
    "#         if skip_val_only:\n",
    "#         top_rec = top_rec[target_idx != 29999]\n",
    "#         target_idx = target_idx[target_idx != 29999]\n",
    "\n",
    "        mrr = (top_rec == target_idx.unsqueeze(1)).float().numpy()\n",
    "        hitst = mrr[:, :5].sum(-1)\n",
    "        mrr = (mrr / np.expand_dims(np.arange(1, 1 + 100), 0)).sum(-1)\n",
    "        tot_mrr.extend(mrr.tolist())\n",
    "        hr.extend(hitst)\n",
    "        pbar.set_postfix({\n",
    "            'mrr': \"%0.4f\" % np.mean(tot_mrr),\n",
    "            'hr': \"%0.4f\" % np.mean(hr)\n",
    "            \n",
    "                         })\n",
    "    for model in models:\n",
    "        model = model.train()\n",
    "    return tot_mrr, hr\n"
   ]
  },
  {
   "cell_type": "code",
   "execution_count": null,
   "id": "91655ddf",
   "metadata": {},
   "outputs": [],
   "source": [
    "te_ds = joblib.load('%s/te_ds' % fname)"
   ]
  },
  {
   "cell_type": "code",
   "execution_count": 13,
   "id": "f7fc1be8",
   "metadata": {},
   "outputs": [
    {
     "name": "stderr",
     "output_type": "stream",
     "text": [
      "100%|████████████████████████████████████████████████████████████████████████████████████████████████████| 287/287 [01:07<00:00,  4.23it/s, mrr=0.1877, hr=0.2609]\n"
     ]
    }
   ],
   "source": [
    "mrr, hr = validate_models(mlp_models, te_ds)"
   ]
  },
  {
   "cell_type": "code",
   "execution_count": 15,
   "id": "7c7f3ee0",
   "metadata": {},
   "outputs": [
    {
     "data": {
      "text/plain": [
       "(0.18773764079489696, 0.26091206)"
      ]
     },
     "execution_count": 15,
     "metadata": {},
     "output_type": "execute_result"
    }
   ],
   "source": [
    "np.mean(mrr), np.mean(hr)"
   ]
  },
  {
   "cell_type": "code",
   "execution_count": 13,
   "id": "981e0c72",
   "metadata": {},
   "outputs": [],
   "source": [
    "import matplotlib.pyplot as plt"
   ]
  },
  {
   "cell_type": "code",
   "execution_count": 14,
   "id": "97affa02",
   "metadata": {},
   "outputs": [
    {
     "name": "stderr",
     "output_type": "stream",
     "text": [
      "/opt/conda/lib/python3.7/site-packages/numpy/core/fromnumeric.py:3441: RuntimeWarning: Mean of empty slice.\n",
      "  out=out, **kwargs)\n",
      "/opt/conda/lib/python3.7/site-packages/numpy/core/_methods.py:189: RuntimeWarning: invalid value encountered in double_scalars\n",
      "  ret = ret.dtype.type(ret / rcount)\n"
     ]
    }
   ],
   "source": [
    "ret = []\n",
    "for i in range(100):\n",
    "    ret.append(np.mean(hr[i*2000:(i+1)*2000]))"
   ]
  },
  {
   "cell_type": "code",
   "execution_count": 15,
   "id": "91788f97",
   "metadata": {
    "scrolled": true
   },
   "outputs": [
    {
     "data": {
      "text/plain": [
       "[<matplotlib.lines.Line2D at 0x7f5f9a9b5350>]"
      ]
     },
     "execution_count": 15,
     "metadata": {},
     "output_type": "execute_result"
    },
    {
     "data": {
      "image/png": "[encoded data removed]",
      "text/plain": [
       "<Figure size 432x288 with 1 Axes>"
      ]
     },
     "metadata": {
      "needs_background": "light"
     },
     "output_type": "display_data"
    }
   ],
   "source": [
    "plt.plot(ret)"
   ]
  }
 ],
 "metadata": {
  "kernelspec": {
   "display_name": "Python 3 (ipykernel)",
   "language": "python",
   "name": "python3"
  },
  "language_info": {
   "codemirror_mode": {
    "name": "ipython",
    "version": 3
   },
   "file_extension": ".py",
   "mimetype": "text/x-python",
   "name": "python",
   "nbconvert_exporter": "python",
   "pygments_lexer": "ipython3",
   "version": "3.8.12"
  }
 },
 "nbformat": 4,
 "nbformat_minor": 5
}
