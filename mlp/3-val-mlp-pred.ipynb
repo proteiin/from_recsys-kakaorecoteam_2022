{
 "cells": [
  {
   "cell_type": "code",
   "execution_count": 1,
   "id": "bad72042",
   "metadata": {},
   "outputs": [],
   "source": [
    "import h5py\n",
    "import pandas as pd\n",
    "import json\n",
    "import numpy as np\n",
    "import numpy as np\n",
    "from sklearn.feature_extraction.text import CountVectorizer\n",
    "import scipy.sparse as ssp\n",
    "from sklearn.preprocessing import normalize\n",
    "from torch.utils.data import Dataset, DataLoader\n",
    "from sklearn.utils import shuffle\n",
    "import pickle\n",
    "import pandas as pd\n",
    "import torch.nn as nn\n",
    "import torch.nn.functional as F\n",
    "import torch\n",
    "import numpy as np\n",
    "import itertools\n",
    "from torch.utils.data import Dataset, DataLoader\n",
    "from scipy.sparse import coo_matrix, csr_matrix\n",
    "from collections import Counter\n",
    "import pickle\n",
    "from sklearn.utils import shuffle\n",
    "from os.path import join as pjoin\n",
    "from tqdm import tqdm\n",
    "import os\n",
    "import joblib\n",
    "os.environ['CUDA_LAUNCH_BLOCKING'] = '1'\n",
    "import importlib \n",
    "from sklearn.preprocessing import normalize as sk_normalize\n",
    "import pytorch_lightning as pl\n",
    "from os.path import join as pjoin\n",
    "from scipy import sparse"
   ]
  },
  {
   "cell_type": "code",
   "execution_count": 2,
   "id": "3469dd0d",
   "metadata": {},
   "outputs": [],
   "source": [
    "torch.cuda.set_device(1)"
   ]
  },
  {
   "cell_type": "code",
   "execution_count": 3,
   "id": "b61e1ed7",
   "metadata": {},
   "outputs": [],
   "source": [
    "fname = \"procseed_data_with_aug\""
   ]
  },
  {
   "cell_type": "code",
   "execution_count": 45,
   "id": "bf4b510f",
   "metadata": {},
   "outputs": [],
   "source": [
    "te_ds = joblib.load('%s/te_ds' % fname)"
   ]
  },
  {
   "cell_type": "code",
   "execution_count": 5,
   "id": "cbc07ec2",
   "metadata": {},
   "outputs": [],
   "source": [
    "tr_ds = joblib.load('%s/tr_ds' % fname)\n",
    "val_ds = joblib.load(\"%s/val_ds\" % fname) \n",
    "id2idx = joblib.load('%s/id2idx' % fname)\n",
    "idx2id = {y:x for (x,y) in id2idx.items()}\n",
    "n_items = len(id2idx)"
   ]
  },
  {
   "cell_type": "code",
   "execution_count": 54,
   "id": "c212e591",
   "metadata": {},
   "outputs": [],
   "source": [
    "val_csv = joblib.load('%s/val_csv' % fname)\n",
    "te_csv = joblib.load('%s/te_csv' % fname)"
   ]
  },
  {
   "cell_type": "code",
   "execution_count": 55,
   "id": "4e2622d6",
   "metadata": {},
   "outputs": [
    {
     "data": {
      "text/plain": [
       "((40808, 13), (40810, 12))"
      ]
     },
     "execution_count": 55,
     "metadata": {},
     "output_type": "execute_result"
    }
   ],
   "source": [
    "val_csv.shape, te_csv.shape"
   ]
  },
  {
   "cell_type": "code",
   "execution_count": 7,
   "id": "0c819407",
   "metadata": {},
   "outputs": [],
   "source": [
    "def flatten(x):\n",
    "    ret = []\n",
    "    for k in x:\n",
    "        ret.extend(k)\n",
    "    return ret\n",
    "\n",
    "def get_t(tr_csv, date='2021-04-01 00:00:00.000', tonly=False):\n",
    "    tg = tr_csv.date_session_end >= date    \n",
    "    ret = set()\n",
    "    ret = set(tr_csv[tg].target_item.tolist())\n",
    "    if tonly:\n",
    "        ret |= set(flatten(tr_csv[tg].item_ids.tolist()))\n",
    "#         ret |= set(tr_csv[tg].target_item.tolist())\n",
    "    print(len(ret))\n",
    "    r = np.zeros(len(id2idx), dtype=bool)\n",
    "    rr = [id2idx[x] for x in ret]\n",
    "    r[rr] = True\n",
    "    return r"
   ]
  },
  {
   "cell_type": "code",
   "execution_count": 21,
   "id": "d5ecc60a",
   "metadata": {},
   "outputs": [],
   "source": [
    "idmap = joblib.load('../processed/indices')[0]"
   ]
  },
  {
   "cell_type": "code",
   "execution_count": 11,
   "id": "409124f2",
   "metadata": {},
   "outputs": [],
   "source": [
    "item_feats = pd.read_csv('../data/item_features.csv', dtype=str)\n",
    "item_feats['feat_id'] = item_feats['feature_category_id'] + ':' + item_feats['feature_value_id']\n",
    "d = item_feats.groupby(\"item_id\")['feat_id'].apply(list).reset_index()\n",
    "item_to_feats = {x:y for (x, y) in zip(d.item_id, d.feat_id)}"
   ]
  },
  {
   "cell_type": "code",
   "execution_count": 24,
   "id": "83aade67",
   "metadata": {},
   "outputs": [],
   "source": [
    "def new_logit_map(logits):\n",
    "    idmap = joblib.load('../processed/indices')[0]\n",
    "    new_map = np.ones(shape=(logits.shape[0], np.max(list(idmap.values())) + 1)) * -100000.0\n",
    "    idmap = [idmap[idx2id[x]] for x in range(logits.shape[1])]\n",
    "    new_map[:, idmap] = logits\n",
    "    return new_map"
   ]
  },
  {
   "cell_type": "code",
   "execution_count": 13,
   "id": "e4cbeaf8",
   "metadata": {},
   "outputs": [],
   "source": [
    "def validate_models(models, val_ds, r=None):\n",
    "    hr = []\n",
    "    for model in models:\n",
    "        model = model.eval()\n",
    "    s = 0\n",
    "    tot_mrr = []\n",
    "    ii = 0\n",
    "    for input in DataLoader(val_ds, batch_size=250, shuffle=True):\n",
    "        (target_idx, _), (ret_mat, ret_cat, ret_scalar) = input\n",
    "        for k in ret_mat:\n",
    "            ret_mat[k] = ret_mat[k].cuda()\n",
    "        for k in ret_cat:\n",
    "            ret_cat[k] = ret_cat[k].cuda()\n",
    "        ret_scalar = ret_scalar.cuda()\n",
    "        rret = []\n",
    "        for model in models:\n",
    "            ret = model.forward(ret_mat, ret_cat, ret_scalar,)\n",
    "            rret.append(ret)\n",
    "        ret = torch.stack(rret)\n",
    "        ret = torch.mean(ret, 0)\n",
    "        if r is not None:\n",
    "            ret[:, ~r] = -100000.0\n",
    "        ret[ret_mat['item_bow'].bool()] = -10000.0\n",
    "        top_rec = (-ret).argsort(-1)[:, :100].detach().cpu()\n",
    "        mrr = (top_rec == target_idx.unsqueeze(1)).float().numpy()\n",
    "        hitst = mrr[:, :5].sum(-1)\n",
    "        mrr = (mrr / np.expand_dims(np.arange(1, 1 + 100), 0)).sum(-1)\n",
    "        tot_mrr.extend(mrr.tolist())\n",
    "        hr.extend(hitst)\n",
    "    for model in models:\n",
    "        model = model.train()\n",
    "    return np.mean(tot_mrr), np.mean(hr)\n"
   ]
  },
  {
   "cell_type": "code",
   "execution_count": 14,
   "id": "e3fdc840",
   "metadata": {},
   "outputs": [],
   "source": [
    "def get_res(models, val_ds):\n",
    "    for model in models:\n",
    "        model = model.eval()\n",
    "    s = 0\n",
    "    rets = []\n",
    "    ii = 0\n",
    "    for input in DataLoader(val_ds, batch_size=250, shuffle=False):\n",
    "        (target_idx, _), (ret_mat, ret_cat, ret_scalar) = input\n",
    "        for k in ret_mat:\n",
    "            ret_mat[k] = ret_mat[k].cuda()\n",
    "        for k in ret_cat:\n",
    "            ret_cat[k] = ret_cat[k].cuda()\n",
    "        ret_scalar = ret_scalar.cuda()\n",
    "        rret = []\n",
    "        for model in models:\n",
    "            ret = model.forward(ret_mat, ret_cat, ret_scalar,)\n",
    "            rret.append(ret)\n",
    "        ret = torch.stack(rret)\n",
    "        ret = torch.mean(ret, 0)\n",
    "        ret[ret_mat['item_bow'].bool()] = -10000.0\n",
    "        rets.append(ret.detach().cpu().numpy())\n",
    "        ii += 1\n",
    "#         if ii == 2:\n",
    "#             break\n",
    "    return np.vstack(rets)"
   ]
  },
  {
   "cell_type": "code",
   "execution_count": 15,
   "id": "d26338c5",
   "metadata": {},
   "outputs": [],
   "source": [
    "models = torch.load('val_mlp_no_shuffle')# + torch.load('no_shuffle_mlp')\n",
    "models = [model.cuda().eval() for model in models]"
   ]
  },
  {
   "cell_type": "code",
   "execution_count": 16,
   "id": "c6d78533",
   "metadata": {},
   "outputs": [],
   "source": [
    "val_score = validate_models(models, val_ds)"
   ]
  },
  {
   "cell_type": "code",
   "execution_count": 15,
   "id": "3710dcfd",
   "metadata": {},
   "outputs": [
    {
     "data": {
      "text/plain": [
       "(0.19207685421335882, 0.26742306)"
      ]
     },
     "execution_count": 15,
     "metadata": {},
     "output_type": "execute_result"
    }
   ],
   "source": [
    "val_score"
   ]
  },
  {
   "cell_type": "code",
   "execution_count": 20,
   "id": "25a05e62",
   "metadata": {},
   "outputs": [],
   "source": [
    "te_score = validate_models(models, te_ds)"
   ]
  },
  {
   "cell_type": "code",
   "execution_count": 21,
   "id": "88130ffd",
   "metadata": {},
   "outputs": [
    {
     "data": {
      "text/plain": [
       "(0.19129616796707752, 0.26785102)"
      ]
     },
     "execution_count": 21,
     "metadata": {},
     "output_type": "execute_result"
    }
   ],
   "source": [
    "te_score"
   ]
  },
  {
   "cell_type": "code",
   "execution_count": 18,
   "id": "fcda834c",
   "metadata": {},
   "outputs": [],
   "source": [
    "val_logits = get_res(models, val_ds)"
   ]
  },
  {
   "cell_type": "code",
   "execution_count": 19,
   "id": "e0ed65e7",
   "metadata": {},
   "outputs": [],
   "source": [
    "te_logits = get_res(models, te_ds)"
   ]
  },
  {
   "cell_type": "code",
   "execution_count": 26,
   "id": "295b594d",
   "metadata": {},
   "outputs": [],
   "source": [
    "val_new_logits = new_logit_map(val_logits)"
   ]
  },
  {
   "cell_type": "code",
   "execution_count": 27,
   "id": "d98e1601",
   "metadata": {},
   "outputs": [],
   "source": [
    "te_new_logits = new_logit_map(te_logits)"
   ]
  },
  {
   "cell_type": "code",
   "execution_count": 57,
   "id": "2d093451",
   "metadata": {},
   "outputs": [
    {
     "data": {
      "text/plain": [
       "((40808, 23618), (40810, 23618))"
      ]
     },
     "execution_count": 57,
     "metadata": {},
     "output_type": "execute_result"
    }
   ],
   "source": [
    "val_new_logits.shape, te_new_logits.shape"
   ]
  },
  {
   "cell_type": "code",
   "execution_count": 56,
   "id": "d69f1422",
   "metadata": {},
   "outputs": [
    {
     "name": "stdout",
     "output_type": "stream",
     "text": [
      "rm: cannot remove '../logits/test/mlp-noshuffle*': No such file or directory\r\n"
     ]
    }
   ],
   "source": [
    "rm ../logits/test/mlp-noshuffle*"
   ]
  },
  {
   "cell_type": "code",
   "execution_count": 59,
   "id": "1d9dc980",
   "metadata": {},
   "outputs": [
    {
     "data": {
      "text/plain": [
       "40810"
      ]
     },
     "execution_count": 59,
     "metadata": {},
     "output_type": "execute_result"
    }
   ],
   "source": [
    "len(te_csv.session_id.tolist())"
   ]
  },
  {
   "cell_type": "code",
   "execution_count": 61,
   "id": "81d9fb9e",
   "metadata": {},
   "outputs": [
    {
     "name": "stdout",
     "output_type": "stream",
     "text": [
      "total 7530472\r\n",
      "drwxr-xr-x 2 root root          0 Jul  6 15:55 .\r\n",
      "drwxr-xr-x 7 root root          0 Jul  6 15:55 ..\r\n",
      "-rw-r--r-- 1 root root 7711203064 Jul  6 15:56 mlp-noshuffle-1657090556\r\n"
     ]
    }
   ],
   "source": [
    "!ls -al \"../logits/test/\""
   ]
  },
  {
   "cell_type": "code",
   "execution_count": 64,
   "id": "6aa6891e",
   "metadata": {},
   "outputs": [
    {
     "name": "stdout",
     "output_type": "stream",
     "text": [
      "mlp-noshuffle-1657090556\r\n"
     ]
    }
   ],
   "source": [
    "ls '/data/project/rw/recsys-challenge-2022-2105/logits/test'"
   ]
  },
  {
   "cell_type": "code",
   "execution_count": 58,
   "id": "4ea6fa9e",
   "metadata": {},
   "outputs": [
    {
     "data": {
      "text/plain": [
       "['../logits/test/mlp-noshuffle-1657090556']"
      ]
     },
     "execution_count": 58,
     "metadata": {},
     "output_type": "execute_result"
    }
   ],
   "source": [
    "import os\n",
    "import time\n",
    "os.makedirs(\"../logits/val\", exist_ok=True)\n",
    "os.makedirs(\"../logits/test\", exist_ok=True)\n",
    "# joblib.dump(\n",
    "#     (val_csv.session_id.tolist(), val_new_logits),\n",
    "#     \"../logits/val/mlp-noshuffle-%d\" % int(time.time()))\n",
    "\n",
    "joblib.dump(\n",
    "    (te_csv.session_id.tolist(), te_new_logits),\n",
    "    \"../logits/test/mlp-noshuffle-%d\" % int(time.time()))"
   ]
  },
  {
   "cell_type": "code",
   "execution_count": 42,
   "id": "2e0c2f79",
   "metadata": {},
   "outputs": [],
   "source": [
    "a, b = joblib.load('../logits/test/mlp-noshuffle-1657085878')"
   ]
  },
  {
   "cell_type": "code",
   "execution_count": 44,
   "id": "405468fb",
   "metadata": {},
   "outputs": [
    {
     "data": {
      "text/plain": [
       "(40810, 23618)"
      ]
     },
     "execution_count": 44,
     "metadata": {},
     "output_type": "execute_result"
    }
   ],
   "source": [
    "b.shape"
   ]
  },
  {
   "cell_type": "code",
   "execution_count": null,
   "id": "75b11523",
   "metadata": {},
   "outputs": [],
   "source": []
  }
 ],
 "metadata": {
  "kernelspec": {
   "display_name": "Python 3 (ipykernel)",
   "language": "python",
   "name": "python3"
  },
  "language_info": {
   "codemirror_mode": {
    "name": "ipython",
    "version": 3
   },
   "file_extension": ".py",
   "mimetype": "text/x-python",
   "name": "python",
   "nbconvert_exporter": "python",
   "pygments_lexer": "ipython3",
   "version": "3.8.12"
  }
 },
 "nbformat": 4,
 "nbformat_minor": 5
}
