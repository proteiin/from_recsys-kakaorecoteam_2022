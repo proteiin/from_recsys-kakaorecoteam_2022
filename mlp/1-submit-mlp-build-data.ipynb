{
 "cells": [
  {
   "cell_type": "code",
   "execution_count": 2,
   "id": "bad72042",
   "metadata": {},
   "outputs": [],
   "source": [
    "import h5py\n",
    "import pandas as pd\n",
    "import json\n",
    "import numpy as np\n",
    "import numpy as np\n",
    "from sklearn.feature_extraction.text import CountVectorizer\n",
    "import scipy.sparse as ssp\n",
    "from sklearn.preprocessing import normalize\n",
    "from torch.utils.data import Dataset, DataLoader\n",
    "from sklearn.utils import shuffle\n",
    "import pickle\n",
    "import pandas as pd\n",
    "import torch.nn as nn\n",
    "import torch.nn.functional as F\n",
    "import torch\n",
    "import numpy as np\n",
    "import itertools\n",
    "from torch.utils.data import Dataset, DataLoader\n",
    "from scipy.sparse import coo_matrix, csr_matrix\n",
    "from collections import Counter\n",
    "import pickle\n",
    "from sklearn.utils import shuffle\n",
    "from os.path import join as pjoin\n",
    "from tqdm.auto import tqdm\n",
    "import os\n",
    "import joblib\n",
    "os.environ['CUDA_LAUNCH_BLOCKING'] = '1'\n",
    "import importlib \n",
    "from sklearn.preprocessing import normalize as sk_normalize\n",
    "import pytorch_lightning as pl\n",
    "from os.path import join as pjoin\n",
    "from scipy import sparse"
   ]
  },
  {
   "cell_type": "code",
   "execution_count": 3,
   "id": "9b5b5bad",
   "metadata": {},
   "outputs": [],
   "source": [
    "def build_dataset(sessions, purchases=None):\n",
    "    item_feats = pd.read_csv('../data/item_features.csv', dtype=str)\n",
    "    item_feats['feat_id'] = item_feats['feature_category_id'] + ':' + item_feats['feature_value_id']\n",
    "    d = item_feats.groupby(\"item_id\")['feat_id'].apply(list).reset_index()\n",
    "    item_to_feats = {x:y for (x, y) in zip(d.item_id, d.feat_id)}\n",
    "\n",
    "    def items_to_feats(item_ids, item_to_feats):\n",
    "        ret = []\n",
    "        for x in item_ids:\n",
    "            ret.extend(item_to_feats[x])\n",
    "        return ret\n",
    "\n",
    "    sessions['kp'] = [(x,y) for (x,y) in zip(sessions.date, sessions.item_id)]\n",
    "    t = sessions.groupby('session_id').kp.apply(lambda x: [y for y in sorted(x)]).reset_index()\n",
    "    q = sessions.groupby('session_id')['date'].apply(lambda x: list(sorted(x))[0])\n",
    "    v = sessions.groupby('session_id')['date'].apply(lambda x: list(sorted(x))[-1])\n",
    "    q = pd.merge(q, v, on='session_id')\n",
    "    print(t.shape, q.shape,v.shape)\n",
    "    ret = pd.merge(pd.DataFrame(t), pd.DataFrame(q), on='session_id')\n",
    "    if purchases is not None:\n",
    "        dataset = pd.merge(ret, purchases, on='session_id')\n",
    "        dataset.columns = ['session_id', 'item_ids', 'date_session_begin', 'date_session_end', 'target_item', 'date_purchase']\n",
    "        dataset['target_feat'] = dataset.target_item.apply(lambda x: item_to_feats[x])\n",
    "    else:\n",
    "        dataset = ret\n",
    "        dataset.columns = ['session_id', 'item_ids', 'date_session_begin', 'date_session_end']\n",
    "\n",
    "    dataset['feats'] = dataset.item_ids.apply(lambda x: items_to_feats([y[1] for y in x], item_to_feats))\n",
    "    dataset['ym'] = dataset.date_session_end.apply(lambda x:x[:7])\n",
    "    dataset['year'] = dataset.date_session_end.apply(lambda x:x[:4])\n",
    "    dataset['month'] = dataset.date_session_end.apply(lambda x:x[5:7])\n",
    "    dataset['dow'] =  pd.to_datetime(dataset.date_session_end).dt.dayofweek.apply(lambda x: str(x))\n",
    "    dataset.sort_values(by='date_session_end', inplace=True)\n",
    "    return dataset"
   ]
  },
  {
   "cell_type": "code",
   "execution_count": 4,
   "id": "8e4dd077",
   "metadata": {},
   "outputs": [],
   "source": [
    "train_sessions = pd.read_csv('../data/train_sessions.csv', dtype=str)\n",
    "train_purchases = pd.read_csv('../data/train_purchases.csv', dtype=str)\n",
    "train_sessions = train_sessions[train_sessions.date >= '2021-02-01 00:00:00.000']"
   ]
  },
  {
   "cell_type": "code",
   "execution_count": 5,
   "id": "87427f09",
   "metadata": {},
   "outputs": [],
   "source": [
    "leaderboard_sessions = pd.read_csv('../data/test_leaderboard_sessions.csv', dtype=str)"
   ]
  },
  {
   "cell_type": "code",
   "execution_count": 6,
   "id": "13c60f7c",
   "metadata": {},
   "outputs": [],
   "source": [
    "final_sessions = pd.read_csv('../data/test_final_sessions.csv', dtype=str)"
   ]
  },
  {
   "cell_type": "code",
   "execution_count": 7,
   "id": "1b471e74",
   "metadata": {},
   "outputs": [
    {
     "name": "stdout",
     "output_type": "stream",
     "text": [
      "(259984, 2) (259984, 2) (259984,)\n"
     ]
    }
   ],
   "source": [
    "_tr_csv = build_dataset(train_sessions, train_purchases).sort_values(by='date_session_end').reset_index(drop=True)"
   ]
  },
  {
   "cell_type": "code",
   "execution_count": 8,
   "id": "c6f28768",
   "metadata": {},
   "outputs": [],
   "source": [
    "val_csv = _tr_csv[-3000:]"
   ]
  },
  {
   "cell_type": "code",
   "execution_count": 9,
   "id": "1411bd1f",
   "metadata": {},
   "outputs": [
    {
     "name": "stdout",
     "output_type": "stream",
     "text": [
      "(50000, 2) (50000, 2) (50000,)\n"
     ]
    }
   ],
   "source": [
    "leaderboard_csv = build_dataset(leaderboard_sessions)"
   ]
  },
  {
   "cell_type": "code",
   "execution_count": 10,
   "id": "1f837e78",
   "metadata": {},
   "outputs": [
    {
     "name": "stdout",
     "output_type": "stream",
     "text": [
      "(50000, 2) (50000, 2) (50000,)\n"
     ]
    }
   ],
   "source": [
    "final_csv = build_dataset(final_sessions)"
   ]
  },
  {
   "cell_type": "code",
   "execution_count": 11,
   "id": "9be40159",
   "metadata": {},
   "outputs": [],
   "source": [
    "tr2 = _tr_csv.copy()"
   ]
  },
  {
   "cell_type": "code",
   "execution_count": 12,
   "id": "fb2c9e14",
   "metadata": {},
   "outputs": [
    {
     "data": {
      "text/html": [
       "<div>\n",
       "<style scoped>\n",
       "    .dataframe tbody tr th:only-of-type {\n",
       "        vertical-align: middle;\n",
       "    }\n",
       "\n",
       "    .dataframe tbody tr th {\n",
       "        vertical-align: top;\n",
       "    }\n",
       "\n",
       "    .dataframe thead th {\n",
       "        text-align: right;\n",
       "    }\n",
       "</style>\n",
       "<table border=\"1\" class=\"dataframe\">\n",
       "  <thead>\n",
       "    <tr style=\"text-align: right;\">\n",
       "      <th></th>\n",
       "      <th>session_id</th>\n",
       "      <th>item_ids</th>\n",
       "      <th>date_session_begin</th>\n",
       "      <th>date_session_end</th>\n",
       "      <th>target_item</th>\n",
       "      <th>date_purchase</th>\n",
       "      <th>target_feat</th>\n",
       "      <th>feats</th>\n",
       "      <th>ym</th>\n",
       "      <th>year</th>\n",
       "      <th>month</th>\n",
       "      <th>dow</th>\n",
       "    </tr>\n",
       "  </thead>\n",
       "  <tbody>\n",
       "    <tr>\n",
       "      <th>0</th>\n",
       "      <td>3308053</td>\n",
       "      <td>[(2021-02-01 00:04:49.941, 19882), (2021-02-01...</td>\n",
       "      <td>2021-02-01 00:04:49.941</td>\n",
       "      <td>2021-02-01 00:06:32.387</td>\n",
       "      <td>6229</td>\n",
       "      <td>2021-02-01 00:06:57.192</td>\n",
       "      <td>[56:365, 26:268, 59:387, 17:378, 4:618, 61:706...</td>\n",
       "      <td>[56:365, 61:462, 33:36, 53:444, 24:588, 29:123...</td>\n",
       "      <td>2021-02</td>\n",
       "      <td>2021</td>\n",
       "      <td>02</td>\n",
       "      <td>0</td>\n",
       "    </tr>\n",
       "    <tr>\n",
       "      <th>1</th>\n",
       "      <td>751312</td>\n",
       "      <td>[(2021-02-01 00:06:53.005, 3558), (2021-02-01 ...</td>\n",
       "      <td>2021-02-01 00:06:53.005</td>\n",
       "      <td>2021-02-01 00:07:29.192</td>\n",
       "      <td>13096</td>\n",
       "      <td>2021-02-01 07:33:49.638</td>\n",
       "      <td>[56:365, 57:135, 5:605, 70:134, 72:75, 61:462,...</td>\n",
       "      <td>[56:365, 18:817, 46:825, 3:793, 47:549, 63:861...</td>\n",
       "      <td>2021-02</td>\n",
       "      <td>2021</td>\n",
       "      <td>02</td>\n",
       "      <td>0</td>\n",
       "    </tr>\n",
       "    <tr>\n",
       "      <th>2</th>\n",
       "      <td>347839</td>\n",
       "      <td>[(2021-02-01 00:07:42.591, 9184)]</td>\n",
       "      <td>2021-02-01 00:07:42.591</td>\n",
       "      <td>2021-02-01 00:07:42.591</td>\n",
       "      <td>18156</td>\n",
       "      <td>2021-02-01 00:08:16.102</td>\n",
       "      <td>[24:588, 56:365, 50:240, 62:801, 47:123, 28:43...</td>\n",
       "      <td>[56:365, 47:123, 69:885, 72:75, 73:544, 7:394,...</td>\n",
       "      <td>2021-02</td>\n",
       "      <td>2021</td>\n",
       "      <td>02</td>\n",
       "      <td>0</td>\n",
       "    </tr>\n",
       "  </tbody>\n",
       "</table>\n",
       "</div>"
      ],
      "text/plain": [
       "  session_id                                           item_ids  \\\n",
       "0    3308053  [(2021-02-01 00:04:49.941, 19882), (2021-02-01...   \n",
       "1     751312  [(2021-02-01 00:06:53.005, 3558), (2021-02-01 ...   \n",
       "2     347839                  [(2021-02-01 00:07:42.591, 9184)]   \n",
       "\n",
       "        date_session_begin         date_session_end target_item  \\\n",
       "0  2021-02-01 00:04:49.941  2021-02-01 00:06:32.387        6229   \n",
       "1  2021-02-01 00:06:53.005  2021-02-01 00:07:29.192       13096   \n",
       "2  2021-02-01 00:07:42.591  2021-02-01 00:07:42.591       18156   \n",
       "\n",
       "             date_purchase                                        target_feat  \\\n",
       "0  2021-02-01 00:06:57.192  [56:365, 26:268, 59:387, 17:378, 4:618, 61:706...   \n",
       "1  2021-02-01 07:33:49.638  [56:365, 57:135, 5:605, 70:134, 72:75, 61:462,...   \n",
       "2  2021-02-01 00:08:16.102  [24:588, 56:365, 50:240, 62:801, 47:123, 28:43...   \n",
       "\n",
       "                                               feats       ym  year month dow  \n",
       "0  [56:365, 61:462, 33:36, 53:444, 24:588, 29:123...  2021-02  2021    02   0  \n",
       "1  [56:365, 18:817, 46:825, 3:793, 47:549, 63:861...  2021-02  2021    02   0  \n",
       "2  [56:365, 47:123, 69:885, 72:75, 73:544, 7:394,...  2021-02  2021    02   0  "
      ]
     },
     "execution_count": 12,
     "metadata": {},
     "output_type": "execute_result"
    }
   ],
   "source": [
    "tr2.head(3)"
   ]
  },
  {
   "cell_type": "code",
   "execution_count": 14,
   "id": "7166475f",
   "metadata": {},
   "outputs": [],
   "source": [
    "tr2['target_item'] = tr2['item_ids'].apply(lambda x:x[-1][1])"
   ]
  },
  {
   "cell_type": "code",
   "execution_count": 15,
   "id": "5b6649bd",
   "metadata": {},
   "outputs": [],
   "source": [
    "tr2['item_ids'] = tr2['item_ids'].apply(lambda x:x[0:-1])"
   ]
  },
  {
   "cell_type": "code",
   "execution_count": 16,
   "id": "dd632221",
   "metadata": {},
   "outputs": [],
   "source": [
    "tr2 = tr2[tr2.item_ids.apply(len) > 0]"
   ]
  },
  {
   "cell_type": "code",
   "execution_count": 17,
   "id": "eefa65b1",
   "metadata": {},
   "outputs": [],
   "source": [
    "q = [tr2.reset_index(drop=True), _tr_csv.reset_index(drop=True)]\n",
    "tr_csv = pd.concat(q, axis=0)"
   ]
  },
  {
   "cell_type": "code",
   "execution_count": 18,
   "id": "a8561619",
   "metadata": {},
   "outputs": [],
   "source": [
    "tr_csv = tr_csv.sort_values(by='date_session_end').reset_index(drop=True)"
   ]
  },
  {
   "cell_type": "code",
   "execution_count": 19,
   "id": "ead38bf6",
   "metadata": {},
   "outputs": [],
   "source": [
    "def flatten(t):\n",
    "    return [item for sublist in t for item in sublist]\n",
    "item_feats = pd.read_csv('../data/item_features.csv', dtype=str)\n",
    "item_feats['feat_id'] = item_feats['feature_category_id'] + ':' + item_feats['feature_value_id']\n",
    "d = item_feats.groupby(\"item_id\")['feat_id'].apply(list).reset_index()\n",
    "item_to_feats = {x:y for (x, y) in zip(d.item_id, d.feat_id)}"
   ]
  },
  {
   "cell_type": "code",
   "execution_count": 20,
   "id": "c2756e03",
   "metadata": {},
   "outputs": [],
   "source": [
    "# tr_csv = _tr_csv.reset_index(drop=True)\n",
    "leaderboard_csv = leaderboard_csv.reset_index(drop=True)\n",
    "final_csv = final_csv.reset_index(drop=True)\n",
    "val_csv = val_csv.reset_index(drop=True)"
   ]
  },
  {
   "cell_type": "code",
   "execution_count": 21,
   "id": "5aa00f52",
   "metadata": {},
   "outputs": [],
   "source": [
    "val_dur = (pd.to_datetime(val_csv.item_ids.apply(lambda x: x[-1][0])) - pd.to_datetime(val_csv.item_ids.apply(lambda x: x[0][0]))).dt.seconds\n",
    "tr_dur = (pd.to_datetime(tr_csv.item_ids.apply(lambda x: x[-1][0])) - pd.to_datetime(tr_csv.item_ids.apply(lambda x: x[0][0]))).dt.seconds\n",
    "leaderboard_dur = (pd.to_datetime(leaderboard_csv.item_ids.apply(lambda x: x[-1][0])) - pd.to_datetime(leaderboard_csv.item_ids.apply(lambda x: x[0][0]))).dt.seconds\n",
    "final_dur = (pd.to_datetime(final_csv.item_ids.apply(lambda x: x[-1][0])) - pd.to_datetime(final_csv.item_ids.apply(lambda x: x[0][0]))).dt.seconds"
   ]
  },
  {
   "cell_type": "code",
   "execution_count": 22,
   "id": "c0149681",
   "metadata": {},
   "outputs": [],
   "source": [
    "val_csv['item_ids'] = val_csv.item_ids.apply(lambda x : [y[1] for y in x])\n",
    "tr_csv['item_ids'] = tr_csv.item_ids.apply(lambda x : [y[1] for y in x])\n",
    "leaderboard_csv['item_ids'] = leaderboard_csv.item_ids.apply(lambda x : [y[1] for y in x])\n",
    "final_csv['item_ids'] = final_csv.item_ids.apply(lambda x : [y[1] for y in x])"
   ]
  },
  {
   "cell_type": "code",
   "execution_count": 23,
   "id": "cec6fd81",
   "metadata": {},
   "outputs": [],
   "source": [
    "val_l = val_csv.item_ids.apply(len)\n",
    "tr_l = tr_csv.item_ids.apply(len)\n",
    "leaderboard_l = leaderboard_csv.item_ids.apply(len)\n",
    "final_l = final_csv.item_ids.apply(len)"
   ]
  },
  {
   "cell_type": "code",
   "execution_count": 24,
   "id": "f3a53b0f",
   "metadata": {},
   "outputs": [],
   "source": [
    "v_pop_all = Counter(flatten(tr_csv.item_ids.tolist()))\n",
    "p_pop_all = Counter(tr_csv.target_item.tolist())"
   ]
  },
  {
   "cell_type": "code",
   "execution_count": 25,
   "id": "a1646178",
   "metadata": {},
   "outputs": [],
   "source": [
    "tr_v_pop_all = tr_csv.item_ids.apply(lambda x: [v_pop_all[y] for y in x])\n",
    "tr_p_pop_all = tr_csv.item_ids.apply(lambda x: [p_pop_all[y] for y in x])\n",
    "\n",
    "\n",
    "val_v_pop_all = val_csv.item_ids.apply(lambda x: [v_pop_all[y] for y in x])\n",
    "val_p_pop_all = val_csv.item_ids.apply(lambda x: [p_pop_all[y] for y in x])\n",
    "\n",
    "leaderboard_v_pop_all = leaderboard_csv.item_ids.apply(lambda x: [v_pop_all[y] for y in x])\n",
    "leaderboard_p_pop_all = leaderboard_csv.item_ids.apply(lambda x: [p_pop_all[y] for y in x])\n",
    "\n",
    "final_v_pop_all = final_csv.item_ids.apply(lambda x: [v_pop_all[y] for y in x])\n",
    "final_p_pop_all = final_csv.item_ids.apply(lambda x: [p_pop_all[y] for y in x])"
   ]
  },
  {
   "cell_type": "code",
   "execution_count": 26,
   "id": "1cf39bc0",
   "metadata": {},
   "outputs": [],
   "source": [
    "v_pop_3m = Counter(flatten(tr_csv[tr_csv.ym >= \"2021-05\"].item_ids.tolist()))\n",
    "p_pop_3m = Counter(tr_csv[tr_csv.ym >= \"2021-05\"].target_item.tolist())"
   ]
  },
  {
   "cell_type": "code",
   "execution_count": 27,
   "id": "be600bd7",
   "metadata": {},
   "outputs": [],
   "source": [
    "tr_v_pop_3m = tr_csv.item_ids.apply(lambda x: [v_pop_3m[y] for y in x])\n",
    "tr_p_pop_3m = tr_csv.item_ids.apply(lambda x: [p_pop_3m[y] for y in x])\n",
    "\n",
    "val_v_pop_3m = val_csv.item_ids.apply(lambda x: [v_pop_3m[y] for y in x])\n",
    "val_p_pop_3m = val_csv.item_ids.apply(lambda x: [p_pop_3m[y] for y in x])\n",
    "\n",
    "leaderboard_v_pop_3m = leaderboard_csv.item_ids.apply(lambda x: [v_pop_3m[y] for y in x])\n",
    "leaderboard_p_pop_3m = leaderboard_csv.item_ids.apply(lambda x: [p_pop_3m[y] for y in x])\n",
    "\n",
    "final_v_pop_3m = final_csv.item_ids.apply(lambda x: [v_pop_3m[y] for y in x])\n",
    "final_p_pop_3m = final_csv.item_ids.apply(lambda x: [p_pop_3m[y] for y in x])"
   ]
  },
  {
   "cell_type": "code",
   "execution_count": 28,
   "id": "0b6b78aa",
   "metadata": {},
   "outputs": [],
   "source": [
    "val_s_len = val_csv.item_ids.apply(len)\n",
    "tr_s_len = tr_csv.item_ids.apply(len)\n",
    "leaderboard_s_len = leaderboard_csv.item_ids.apply(len)\n",
    "final_s_len = final_csv.item_ids.apply(len)"
   ]
  },
  {
   "cell_type": "code",
   "execution_count": 29,
   "id": "e18d6f1a",
   "metadata": {},
   "outputs": [],
   "source": [
    "tr_tmp = pd.concat([\n",
    "    np.log(1 + tr_s_len),\n",
    "    np.log(1 + tr_dur),\n",
    "    np.log(1 + tr_v_pop_all.apply(lambda x: np.mean(x))),\n",
    "    np.log(1 + tr_p_pop_all.apply(lambda x: np.mean(x))),\n",
    "    np.log(1 + tr_v_pop_all.apply(lambda x: np.max(x))),\n",
    "    np.log(1 + tr_p_pop_all.apply(lambda x: np.max(x))),\n",
    "    \n",
    "    np.log(1 + tr_v_pop_3m.apply(lambda x: np.mean(x))),\n",
    "    np.log(1 + tr_p_pop_3m.apply(lambda x: np.mean(x))),\n",
    "    np.log(1 + tr_v_pop_3m.apply(lambda x: np.max(x))),\n",
    "    np.log(1 + tr_p_pop_3m.apply(lambda x: np.max(x))),\n",
    "    \n",
    "], axis=1)\n",
    "\n",
    "val_tmp = pd.concat([\n",
    "    np.log(1 + val_s_len),\n",
    "    np.log(1 + val_dur),\n",
    "    np.log(1 + val_v_pop_all.apply(lambda x: np.mean(x))),\n",
    "    np.log(1 + val_p_pop_all.apply(lambda x: np.mean(x))),\n",
    "    np.log(1 + val_v_pop_all.apply(lambda x: np.max(x))),\n",
    "    np.log(1 + val_p_pop_all.apply(lambda x: np.max(x))),\n",
    "    \n",
    "    np.log(1 + val_v_pop_3m.apply(lambda x: np.mean(x))),\n",
    "    np.log(1 + val_p_pop_3m.apply(lambda x: np.mean(x))),\n",
    "    np.log(1 + val_v_pop_3m.apply(lambda x: np.max(x))),\n",
    "    np.log(1 + val_p_pop_3m.apply(lambda x: np.max(x))),\n",
    "    \n",
    "], axis=1)\n",
    "\n",
    "leaderboard_tmp = pd.concat([\n",
    "   np.log(1 + leaderboard_s_len),\n",
    "    np.log(1 + leaderboard_dur),\n",
    "    np.log(1 + leaderboard_v_pop_all.apply(lambda x: np.mean(x))),\n",
    "    np.log(1 + leaderboard_p_pop_all.apply(lambda x: np.mean(x))),\n",
    "    np.log(1 + leaderboard_v_pop_all.apply(lambda x: np.max(x))),\n",
    "    np.log(1 + leaderboard_p_pop_all.apply(lambda x: np.max(x))),\n",
    "    \n",
    "    np.log(1 + leaderboard_v_pop_3m.apply(lambda x: np.mean(x))),\n",
    "    np.log(1 + leaderboard_p_pop_3m.apply(lambda x: np.mean(x))),\n",
    "    np.log(1 + leaderboard_v_pop_3m.apply(lambda x: np.max(x))),\n",
    "    np.log(1 + leaderboard_p_pop_3m.apply(lambda x: np.max(x))),\n",
    "], axis=1)\n",
    "\n",
    "final_tmp = pd.concat([\n",
    "   np.log(1 + final_s_len),\n",
    "    np.log(1 + final_dur),\n",
    "    np.log(1 + final_v_pop_all.apply(lambda x: np.mean(x))),\n",
    "    np.log(1 + final_p_pop_all.apply(lambda x: np.mean(x))),\n",
    "    np.log(1 + final_v_pop_all.apply(lambda x: np.max(x))),\n",
    "    np.log(1 + final_p_pop_all.apply(lambda x: np.max(x))),\n",
    "    \n",
    "    np.log(1 + final_v_pop_3m.apply(lambda x: np.mean(x))),\n",
    "    np.log(1 + final_p_pop_3m.apply(lambda x: np.mean(x))),\n",
    "    np.log(1 + final_v_pop_3m.apply(lambda x: np.max(x))),\n",
    "    np.log(1 + final_p_pop_3m.apply(lambda x: np.max(x))),\n",
    "], axis=1)\n",
    "\n",
    "tr_scalar = tr_tmp.to_numpy()\n",
    "leaderboard_scalar = leaderboard_tmp.to_numpy()\n",
    "final_scalar = final_tmp.to_numpy()"
   ]
  },
  {
   "cell_type": "code",
   "execution_count": 30,
   "id": "4d200486",
   "metadata": {},
   "outputs": [],
   "source": [
    "val_scalar = val_tmp.to_numpy()"
   ]
  },
  {
   "cell_type": "code",
   "execution_count": 31,
   "id": "dfafd67e",
   "metadata": {},
   "outputs": [],
   "source": [
    "def iddf(x):\n",
    "    return x"
   ]
  },
  {
   "cell_type": "code",
   "execution_count": 32,
   "id": "d57ffd5c",
   "metadata": {},
   "outputs": [],
   "source": [
    "tr_csv['tt'] = tr_csv.date_session_end.apply(lambda x: x[:9]) + ':' + tr_csv.item_ids.apply(lambda x: ':'.join(sorted(x[-5:])))"
   ]
  },
  {
   "cell_type": "code",
   "execution_count": 33,
   "id": "8d05aab4",
   "metadata": {},
   "outputs": [],
   "source": [
    "kw = tr_csv.groupby('tt').target_item.apply(list).reset_index()"
   ]
  },
  {
   "cell_type": "code",
   "execution_count": 34,
   "id": "215c57a4",
   "metadata": {},
   "outputs": [],
   "source": [
    "mask = {x: y for (x, y) in zip(kw.tt, kw.target_item)}"
   ]
  },
  {
   "cell_type": "code",
   "execution_count": 35,
   "id": "04988df4",
   "metadata": {},
   "outputs": [],
   "source": [
    "input_mask_all = tr_csv.item_ids# + tr_csv.tt.apply(lambda x: mask[x])"
   ]
  },
  {
   "cell_type": "code",
   "execution_count": 36,
   "id": "a8a62985",
   "metadata": {},
   "outputs": [],
   "source": [
    "ret = []\n",
    "for x, y in  zip(input_mask_all, tr_csv.target_item):\n",
    "    r = [k for k in x if k != y]\n",
    "    ret.append(r)"
   ]
  },
  {
   "cell_type": "code",
   "execution_count": 37,
   "id": "54a16fdd",
   "metadata": {},
   "outputs": [],
   "source": [
    "input_mask_all = ret"
   ]
  },
  {
   "cell_type": "code",
   "execution_count": 38,
   "id": "c26a3ba0",
   "metadata": {},
   "outputs": [],
   "source": [
    "lm_item = sorted(list(set(flatten(tr_csv.item_ids.apply(lambda x: x))) | set(tr_csv.target_item.unique())), key=lambda x: int(x))\n",
    "# lm_item = set(item_to_feats.keys())\n",
    "id2idx = {x:i for i,x in enumerate(lm_item)}\n",
    "item_CV = CountVectorizer(analyzer =iddf, vocabulary=id2idx)"
   ]
  },
  {
   "cell_type": "code",
   "execution_count": 39,
   "id": "4fb9a18d",
   "metadata": {},
   "outputs": [],
   "source": [
    "tr_mask_all = item_CV.transform(input_mask_all)"
   ]
  },
  {
   "cell_type": "code",
   "execution_count": 40,
   "id": "07434140",
   "metadata": {},
   "outputs": [],
   "source": [
    "AA = tr_mask_all.toarray().sum(-1).ravel()"
   ]
  },
  {
   "cell_type": "code",
   "execution_count": 41,
   "id": "5cc5e216",
   "metadata": {},
   "outputs": [],
   "source": [
    "BB = item_CV.transform(tr_csv.item_ids).toarray().sum(-1).ravel()"
   ]
  },
  {
   "cell_type": "code",
   "execution_count": 42,
   "id": "406392a8",
   "metadata": {},
   "outputs": [
    {
     "data": {
      "text/plain": [
       "-0.11897727834810488"
      ]
     },
     "execution_count": 42,
     "metadata": {},
     "output_type": "execute_result"
    }
   ],
   "source": [
    "(AA - BB).mean()"
   ]
  },
  {
   "cell_type": "code",
   "execution_count": 43,
   "id": "fa5851ab",
   "metadata": {},
   "outputs": [
    {
     "data": {
      "text/plain": [
       "(50000, 50000)"
      ]
     },
     "execution_count": 43,
     "metadata": {},
     "output_type": "execute_result"
    }
   ],
   "source": [
    "tr_targets = tr_csv.target_item.apply(lambda x: id2idx[x]).tolist()\n",
    "val_targets = val_csv.target_item.apply(lambda x: id2idx[x]).tolist()\n",
    "leaderboard_targets = [29999 for _ in range(len(leaderboard_csv))]\n",
    "final_targets = [29999 for _ in range(len(final_csv))]\n",
    "(np.array(leaderboard_targets) == 29999).sum(), (np.array(final_targets) == 29999).sum()"
   ]
  },
  {
   "cell_type": "code",
   "execution_count": 44,
   "id": "a0bd0a6d",
   "metadata": {},
   "outputs": [],
   "source": [
    "item_all = item_CV.transform(tr_csv.item_ids.apply(lambda x: x))\n",
    "last_20 = item_CV.transform(tr_csv.item_ids.apply(lambda x: x[-20:]))\n",
    "last_5 = item_CV.transform(tr_csv.item_ids.apply(lambda x: x[-5:]))\n",
    "last_2 = item_CV.transform(tr_csv.item_ids.apply(lambda x: x[-2:]))\n",
    "last_1 = item_CV.transform(tr_csv.item_ids.apply(lambda x: x[-1:]))\n",
    "\n",
    "val_all = item_CV.transform(val_csv.item_ids.apply(lambda x: x))\n",
    "val_last_20 = item_CV.transform(val_csv.item_ids.apply(lambda x: x[-20:]))\n",
    "val_last5 = item_CV.transform(val_csv.item_ids.apply(lambda x: x[-5:]))\n",
    "val_last2 = item_CV.transform(val_csv.item_ids.apply(lambda x: x[-2:]))\n",
    "val_last1 = item_CV.transform(val_csv.item_ids.apply(lambda x: x[-1:]))\n",
    "\n",
    "\n",
    "leaderboard_all = item_CV.transform(leaderboard_csv.item_ids.apply(lambda x: x))\n",
    "leaderboard_last_20 = item_CV.transform(leaderboard_csv.item_ids.apply(lambda x: x[-20:]))\n",
    "leaderboard_last5 = item_CV.transform(leaderboard_csv.item_ids.apply(lambda x: x[-5:]))\n",
    "leaderboard_last2 = item_CV.transform(leaderboard_csv.item_ids.apply(lambda x: x[-2:]))\n",
    "leaderboard_last1 = item_CV.transform(leaderboard_csv.item_ids.apply(lambda x: x[-1:]))\n",
    "\n",
    "final_all = item_CV.transform(final_csv.item_ids.apply(lambda x: x))\n",
    "final_last_20 = item_CV.transform(final_csv.item_ids.apply(lambda x: x[-20:]))\n",
    "final_last5 = item_CV.transform(final_csv.item_ids.apply(lambda x: x[-5:]))\n",
    "final_last2 = item_CV.transform(final_csv.item_ids.apply(lambda x: x[-2:]))\n",
    "final_last1 = item_CV.transform(final_csv.item_ids.apply(lambda x: x[-1:]))"
   ]
  },
  {
   "cell_type": "code",
   "execution_count": 45,
   "id": "6c1fc903",
   "metadata": {},
   "outputs": [],
   "source": [
    "tr_last_5_feats = tr_csv.item_ids.apply(lambda x: x[-5:]).apply(lambda x: flatten([item_to_feats[y] for y in x]))\n",
    "tr_last_3_feats = tr_csv.item_ids.apply(lambda x: x[-3:]).apply(lambda x: flatten([item_to_feats[y] for y in x]))\n",
    "tr_last_1_feats = tr_csv.item_ids.apply(lambda x: x[-1:]).apply(lambda x: flatten([item_to_feats[y] for y in x]))\n",
    "\n",
    "val_last_5_feats = val_csv.item_ids.apply(lambda x: x[-5:]).apply(lambda x: flatten([item_to_feats[y] for y in x]))\n",
    "val_last_3_feats = val_csv.item_ids.apply(lambda x: x[-3:]).apply(lambda x: flatten([item_to_feats[y] for y in x]))\n",
    "val_last_1_feats = val_csv.item_ids.apply(lambda x: x[-1:]).apply(lambda x: flatten([item_to_feats[y] for y in x]))\n",
    "\n",
    "\n",
    "leaderboard_last_5_feats = leaderboard_csv.item_ids.apply(lambda x: x[-5:]).apply(lambda x: flatten([item_to_feats[y] for y in x]))\n",
    "leaderboard_last_3_feats = leaderboard_csv.item_ids.apply(lambda x: x[-3:]).apply(lambda x: flatten([item_to_feats[y] for y in x]))\n",
    "leaderboard_last_1_feats = leaderboard_csv.item_ids.apply(lambda x: x[-1:]).apply(lambda x: flatten([item_to_feats[y] for y in x]))\n",
    "\n",
    "final_last_5_feats = final_csv.item_ids.apply(lambda x: x[-5:]).apply(lambda x: flatten([item_to_feats[y] for y in x]))\n",
    "final_last_3_feats = final_csv.item_ids.apply(lambda x: x[-3:]).apply(lambda x: flatten([item_to_feats[y] for y in x]))\n",
    "final_last_1_feats = final_csv.item_ids.apply(lambda x: x[-1:]).apply(lambda x: flatten([item_to_feats[y] for y in x]))"
   ]
  },
  {
   "cell_type": "code",
   "execution_count": 46,
   "id": "7ecacd41",
   "metadata": {},
   "outputs": [],
   "source": [
    "year_map = {y: x for (x, y) in enumerate(['2020', '2021'])}\n",
    "month_map = {y: x for (x, y) in enumerate([\"%02d\" % x for x in range(1, 13)])}\n",
    "hour_map = {y: x for (x, y) in enumerate([\"%d\" % x for x in range(0, 24)])}\n",
    "dow_map = {y: x for (x, y) in enumerate(tr_csv.dow.unique())}\n",
    "tr_csv['dow'] = pd.to_datetime(tr_csv.date_session_end).dt.dayofweek.apply(lambda x: str(x))\n",
    "tr_csv['hour'] = pd.to_datetime(tr_csv.date_session_end).dt.hour.apply(lambda x: str(x))\n",
    "\n",
    "val_csv['dow'] = pd.to_datetime(val_csv.date_session_end).dt.dayofweek.apply(lambda x: str(x))\n",
    "val_csv['hour'] = pd.to_datetime(val_csv.date_session_end).dt.hour.apply(lambda x: str(x))\n",
    "\n",
    "leaderboard_csv['dow'] = pd.to_datetime(leaderboard_csv.date_session_end).dt.dayofweek.apply(lambda x: str(x))\n",
    "leaderboard_csv['hour'] = pd.to_datetime(leaderboard_csv.date_session_end).dt.hour.apply(lambda x: str(x))\n",
    "\n",
    "final_csv['dow'] = pd.to_datetime(final_csv.date_session_end).dt.dayofweek.apply(lambda x: str(x))\n",
    "final_csv['hour'] = pd.to_datetime(final_csv.date_session_end).dt.hour.apply(lambda x: str(x))"
   ]
  },
  {
   "cell_type": "code",
   "execution_count": 47,
   "id": "66843ec6",
   "metadata": {},
   "outputs": [],
   "source": [
    "all_feats = flatten([item_to_feats[x] for x in lm_item])"
   ]
  },
  {
   "cell_type": "code",
   "execution_count": 48,
   "id": "b1c894a2",
   "metadata": {},
   "outputs": [],
   "source": [
    "all_feats = set(all_feats)"
   ]
  },
  {
   "cell_type": "code",
   "execution_count": 49,
   "id": "d598f451",
   "metadata": {},
   "outputs": [],
   "source": [
    "all_feats = set(flatten(item_to_feats.values()))"
   ]
  },
  {
   "cell_type": "code",
   "execution_count": 50,
   "id": "c8704240",
   "metadata": {},
   "outputs": [],
   "source": [
    "i2fidx = item_to_feats.keys()\n",
    "feat_CV = CountVectorizer(analyzer=iddf, \n",
    "                          vocabulary=all_feats)"
   ]
  },
  {
   "cell_type": "code",
   "execution_count": 51,
   "id": "28a763bb",
   "metadata": {},
   "outputs": [],
   "source": [
    "lm_feats = normalize(feat_CV.transform([item_to_feats[x] for x in lm_item]), norm='l1')"
   ]
  },
  {
   "cell_type": "code",
   "execution_count": 52,
   "id": "5ce31cc8",
   "metadata": {},
   "outputs": [],
   "source": [
    "tr_l5_feats = normalize(feat_CV.transform(tr_last_5_feats), norm='l1').toarray()\n",
    "tr_l3_feats = normalize(feat_CV.transform(tr_last_3_feats), norm='l1').toarray()\n",
    "tr_l1_feats = normalize(feat_CV.transform(tr_last_1_feats), norm='l1').toarray()\n",
    "\n",
    "val_l5_feats = normalize(feat_CV.transform(val_last_5_feats), norm='l1').toarray()\n",
    "val_l3_feats = normalize(feat_CV.transform(val_last_3_feats), norm='l1').toarray()\n",
    "val_l1_feats = normalize(feat_CV.transform(val_last_1_feats), norm='l1').toarray()\n",
    "\n",
    "leaderboard_l5_feats = normalize(feat_CV.transform(leaderboard_last_5_feats), norm='l1').toarray()\n",
    "leaderboard_l3_feats = normalize(feat_CV.transform(leaderboard_last_3_feats), norm='l1').toarray()\n",
    "leaderboard_l1_feats = normalize(feat_CV.transform(leaderboard_last_1_feats), norm='l1').toarray()\n",
    "\n",
    "final_l5_feats = normalize(feat_CV.transform(final_last_5_feats), norm='l1').toarray()\n",
    "final_l3_feats = normalize(feat_CV.transform(final_last_3_feats), norm='l1').toarray()\n",
    "final_l1_feats = normalize(feat_CV.transform(final_last_1_feats), norm='l1').toarray()"
   ]
  },
  {
   "cell_type": "code",
   "execution_count": 53,
   "id": "ecdd6425",
   "metadata": {},
   "outputs": [],
   "source": [
    "EMBED_DIM = 16\n",
    "tr_cats = {\n",
    "#     \"year\": (tr_csv['year'].apply(lambda x: year_map[x]).tolist(), (2, EMBED_DIM)),\n",
    "#     \"month\": (tr_csv['month'].apply(lambda x: month_map[x]).tolist(), (12, EMBED_DIM)),\n",
    "    \"dow\": (tr_csv['dow'].apply(lambda x: dow_map[x]).tolist(), (7, EMBED_DIM)),\n",
    "    \"hour\": (tr_csv['hour'].apply(lambda x: hour_map[x]).tolist(), (25, EMBED_DIM)),\n",
    "}\n",
    "\n",
    "val_cats = {\n",
    "    #     \"year\": (val_csv['year'].apply(lambda x: year_map[x]).tolist(), (2, EMBED_DIM)),\n",
    "    #     \"month\": (val_csv['month'].apply(lambda x: month_map[x]).tolist(), (12, EMBED_DIM)),\n",
    "        \"dow\": (val_csv['dow'].apply(lambda x: dow_map[x]).tolist(), (7, EMBED_DIM)),\n",
    "        \"hour\": (val_csv['hour'].apply(lambda x: hour_map[x]).tolist(), (25, EMBED_DIM)),\n",
    "    }\n",
    "\n",
    "leaderboard_cats = {\n",
    "#     \"year\": (leaderboard_csv['year'].apply(lambda x: year_map[x]).tolist(), (2, EMBED_DIM)),\n",
    "#     \"month\": (leaderboard_csv['month'].apply(lambda x: month_map[x]).tolist(), (12, EMBED_DIM)),\n",
    "    \"dow\": (leaderboard_csv['dow'].apply(lambda x: dow_map[x]).tolist(), (7, EMBED_DIM)),\n",
    "    \"hour\": (leaderboard_csv['hour'].apply(lambda x: hour_map[x]).tolist(), (25, EMBED_DIM)),    \n",
    "}\n",
    "\n",
    "final_cats = {\n",
    "#     \"year\": (final_csv['year'].apply(lambda x: year_map[x]).tolist(), (2, EMBED_DIM)),\n",
    "#     \"month\": (final_csv['month'].apply(lambda x: month_map[x]).tolist(), (12, EMBED_DIM)),\n",
    "    \"dow\": (final_csv['dow'].apply(lambda x: dow_map[x]).tolist(), (7, EMBED_DIM)),\n",
    "    \"hour\": (final_csv['hour'].apply(lambda x: hour_map[x]).tolist(), (25, EMBED_DIM)),    \n",
    "}"
   ]
  },
  {
   "cell_type": "code",
   "execution_count": 54,
   "id": "0aaa7ccc",
   "metadata": {},
   "outputs": [],
   "source": [
    "tr_mats = {\n",
    "    \"item_bow\": item_all, \n",
    "    \"item_last_20\": last_20,\n",
    "    \"item_last_5\": last_5,\n",
    "    \"item_last_2\": last_2,\n",
    "    \"item_last_1\": last_1, \n",
    "    'item_last_5_feats': tr_l5_feats,\n",
    "    \"item_last_3_feats\" : tr_l3_feats,\n",
    "    \"item_last_1_feats\" : tr_l1_feats, \n",
    "}\n",
    "\n",
    "\n",
    "\n",
    "val_mats  = {\n",
    "    \"item_bow\": val_all, \n",
    "    \"item_last_20\": val_last_20,\n",
    "    \"item_last_5\": val_last5,\n",
    "    \"item_last_2\": val_last2,\n",
    "    \"item_last_1\": val_last1, \n",
    "    'item_last_5_feats': val_l5_feats,\n",
    "    \"item_last_3_feats\" : val_l3_feats,\n",
    "    \"item_last_1_feats\" : val_l1_feats\n",
    "}\n",
    "\n",
    "\n",
    "leaderboard_mats  = {\n",
    "    \"item_bow\": leaderboard_all, \n",
    "    \"item_last_20\": leaderboard_last_20,\n",
    "    \"item_last_5\": leaderboard_last5,\n",
    "    \"item_last_2\": leaderboard_last2,\n",
    "    \"item_last_1\": leaderboard_last1, \n",
    "    'item_last_5_feats': leaderboard_l5_feats,\n",
    "    \"item_last_3_feats\" : leaderboard_l3_feats,\n",
    "    \"item_last_1_feats\" : leaderboard_l1_feats\n",
    "}\n",
    "\n",
    "\n",
    "final_mats  = {\n",
    "    \"item_bow\": final_all, \n",
    "    \"item_last_20\": final_last_20,\n",
    "    \"item_last_5\": final_last5,\n",
    "    \"item_last_2\": final_last2,\n",
    "    \"item_last_1\": final_last1, \n",
    "    'item_last_5_feats': final_l5_feats,\n",
    "    \"item_last_3_feats\" : final_l3_feats,\n",
    "    \"item_last_1_feats\" : final_l1_feats, \n",
    "}"
   ]
  },
  {
   "cell_type": "code",
   "execution_count": 55,
   "id": "d99f3259",
   "metadata": {},
   "outputs": [
    {
     "data": {
      "text/plain": [
       "<module 'mlps' from '/data/private/recsys2022/mlp/mlps.py'>"
      ]
     },
     "execution_count": 55,
     "metadata": {},
     "output_type": "execute_result"
    }
   ],
   "source": [
    "import mlps\n",
    "importlib.reload(mlps)"
   ]
  },
  {
   "cell_type": "code",
   "execution_count": 56,
   "id": "057bc390",
   "metadata": {},
   "outputs": [],
   "source": [
    "val_mask_all = item_CV.transform(val_csv.item_ids)"
   ]
  },
  {
   "cell_type": "code",
   "execution_count": 57,
   "id": "2ac8d977",
   "metadata": {},
   "outputs": [],
   "source": [
    "leaderboard_mask_all = item_CV.transform(leaderboard_csv.item_ids)\n",
    "final_mask_all = item_CV.transform(final_csv.item_ids)"
   ]
  },
  {
   "cell_type": "code",
   "execution_count": 58,
   "id": "f4d04b46",
   "metadata": {},
   "outputs": [],
   "source": [
    "tr_ds = mlps.dictDataset(tr_mask_all, tr_mats, tr_cats, tr_scalar, tr_targets)\n",
    "val_ds = mlps.dictDataset(val_mask_all, val_mats, val_cats, val_scalar, val_targets)\n",
    "leaderboard_ds = mlps.dictDataset(leaderboard_mask_all, leaderboard_mats, {}, leaderboard_scalar, leaderboard_targets)\n",
    "final_ds = mlps.dictDataset(final_mask_all, final_mats, {}, final_scalar, final_targets)"
   ]
  },
  {
   "cell_type": "code",
   "execution_count": 60,
   "id": "c87291b9",
   "metadata": {},
   "outputs": [],
   "source": [
    "fname = 'submit_dataset'"
   ]
  },
  {
   "cell_type": "code",
   "execution_count": 61,
   "id": "6ae73d20",
   "metadata": {},
   "outputs": [],
   "source": [
    "!rm -rf  ./submit_dataset\n",
    "!mkdir submit_dataset"
   ]
  },
  {
   "cell_type": "code",
   "execution_count": 62,
   "id": "6a530a36",
   "metadata": {},
   "outputs": [
    {
     "data": {
      "text/plain": [
       "['submit_dataset/cv']"
      ]
     },
     "execution_count": 62,
     "metadata": {},
     "output_type": "execute_result"
    }
   ],
   "source": [
    "joblib.dump(lm_feats, '%s/lm_feats' % fname)\n",
    "joblib.dump(tr_ds, \"%s/tr_ds\" % fname)\n",
    "joblib.dump(val_ds, \"%s/val_ds\" % fname)\n",
    "joblib.dump(leaderboard_ds, '%s/leaderboard_ds' % fname)\n",
    "joblib.dump(final_ds, '%s/final_ds' % fname)\n",
    "joblib.dump(final_csv, \"%s/final_csv\" % fname)\n",
    "joblib.dump(leaderboard_csv, \"%s/leaderboard_csv\" % fname)\n",
    "joblib.dump(val_csv, \"%s/val_csv\" % fname)\n",
    "joblib.dump(tr_csv, '%s/tr_csv' % fname)\n",
    "joblib.dump(id2idx, '%s/id2idx' % fname )\n",
    "joblib.dump((item_CV, feat_CV), \"%s/cv\" % fname)"
   ]
  }
 ],
 "metadata": {
  "kernelspec": {
   "display_name": "Python 3 (ipykernel)",
   "language": "python",
   "name": "python3"
  },
  "language_info": {
   "codemirror_mode": {
    "name": "ipython",
    "version": 3
   },
   "file_extension": ".py",
   "mimetype": "text/x-python",
   "name": "python",
   "nbconvert_exporter": "python",
   "pygments_lexer": "ipython3",
   "version": "3.8.12"
  }
 },
 "nbformat": 4,
 "nbformat_minor": 5
}
