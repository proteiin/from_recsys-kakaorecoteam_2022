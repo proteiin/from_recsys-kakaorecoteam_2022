{
 "cells": [
  {
   "cell_type": "code",
   "execution_count": 11,
   "id": "bad72042",
   "metadata": {},
   "outputs": [],
   "source": [
    "import h5py\n",
    "import pandas as pd\n",
    "import json\n",
    "import numpy as np\n",
    "import numpy as np\n",
    "from sklearn.feature_extraction.text import CountVectorizer\n",
    "import scipy.sparse as ssp\n",
    "from sklearn.preprocessing import normalize\n",
    "from torch.utils.data import Dataset, DataLoader\n",
    "from sklearn.utils import shuffle\n",
    "import pickle\n",
    "import pandas as pd\n",
    "import torch.nn as nn\n",
    "import torch.nn.functional as F\n",
    "import torch\n",
    "import numpy as np\n",
    "import itertools\n",
    "from torch.utils.data import Dataset, DataLoader\n",
    "from scipy.sparse import coo_matrix, csr_matrix\n",
    "from collections import Counter\n",
    "import pickle\n",
    "from sklearn.utils import shuffle\n",
    "from os.path import join as pjoin\n",
    "from tqdm import tqdm\n",
    "import os\n",
    "import joblib\n",
    "os.environ['CUDA_LAUNCH_BLOCKING'] = '1'\n",
    "import importlib \n",
    "from sklearn.preprocessing import normalize as sk_normalize\n",
    "import pytorch_lightning as pl\n",
    "from os.path import join as pjoin\n",
    "\n",
    "from scipy import sparse"
   ]
  },
  {
   "cell_type": "code",
   "execution_count": 12,
   "id": "a0f0ba8a",
   "metadata": {},
   "outputs": [],
   "source": [
    "torch.cuda.set_device(0)"
   ]
  },
  {
   "cell_type": "code",
   "execution_count": 13,
   "id": "8f69ae67",
   "metadata": {},
   "outputs": [],
   "source": [
    "import tqdm as tt"
   ]
  },
  {
   "cell_type": "code",
   "execution_count": 14,
   "id": "c5e981d3",
   "metadata": {},
   "outputs": [],
   "source": [
    "iddf = lambda x: x"
   ]
  },
  {
   "cell_type": "code",
   "execution_count": 15,
   "id": "248053ce",
   "metadata": {},
   "outputs": [],
   "source": [
    "import mlps"
   ]
  },
  {
   "cell_type": "code",
   "execution_count": 16,
   "id": "5c0d8165",
   "metadata": {},
   "outputs": [],
   "source": [
    "wd = \"submit_dataset/\"\n",
    "loads = ['tr_ds', 'val_ds', 'val_csv','tr_csv', \n",
    "         'leaderboard_ds', 'final_ds', 'leaderboard_csv', \n",
    "         'final_csv', 'id2idx', 'cv']\n",
    "rets = []\n",
    "for l in loads:\n",
    "    rets.append(joblib.load(wd + l))\n",
    "tr_02_ds, val_ds, val_csv, tr_csv_02, l_ds, f_ds, l_csv, f_csv, id2idx, cv = rets"
   ]
  },
  {
   "cell_type": "code",
   "execution_count": 17,
   "id": "bce8714f",
   "metadata": {},
   "outputs": [],
   "source": [
    "idx2id = {y:x for (x,y) in id2idx.items()}\n",
    "n_items = len(id2idx)"
   ]
  },
  {
   "cell_type": "code",
   "execution_count": 39,
   "id": "02fbad8e",
   "metadata": {},
   "outputs": [],
   "source": [
    "final_idmap = joblib.load('../processed_submit/indices')[0]\n",
    "idmap = [final_idmap[idx2id[x]] for x in range(len(idx2id))]"
   ]
  },
  {
   "cell_type": "code",
   "execution_count": 9,
   "id": "8b94b583",
   "metadata": {
    "scrolled": true
   },
   "outputs": [
    {
     "name": "stdout",
     "output_type": "stream",
     "text": [
      "item_last_20\n",
      "item_last_5\n",
      "item_last_2\n",
      "item_last_1\n",
      "item_last_5_feats\n",
      "item_last_3_feats\n",
      "item_last_1_feats\n",
      "item_last_20\n",
      "item_last_5\n",
      "item_last_2\n",
      "item_last_1\n",
      "item_last_5_feats\n",
      "item_last_3_feats\n",
      "item_last_1_feats\n",
      "item_last_20\n",
      "item_last_5\n",
      "item_last_2\n",
      "item_last_1\n",
      "item_last_5_feats\n",
      "item_last_3_feats\n",
      "item_last_1_feats\n",
      "item_last_20\n",
      "item_last_5\n",
      "item_last_2\n",
      "item_last_1\n",
      "item_last_5_feats\n",
      "item_last_3_feats\n",
      "item_last_1_feats\n",
      "item_last_20\n",
      "item_last_5\n",
      "item_last_2\n",
      "item_last_1\n",
      "item_last_5_feats\n",
      "item_last_3_feats\n",
      "item_last_1_feats\n",
      "item_last_20\n",
      "item_last_5\n",
      "item_last_2\n",
      "item_last_1\n",
      "item_last_5_feats\n",
      "item_last_3_feats\n",
      "item_last_1_feats\n",
      "item_last_20\n",
      "item_last_5\n",
      "item_last_2\n",
      "item_last_1\n",
      "item_last_5_feats\n",
      "item_last_3_feats\n",
      "item_last_1_feats\n",
      "item_last_20\n",
      "item_last_5\n",
      "item_last_2\n",
      "item_last_1\n",
      "item_last_5_feats\n",
      "item_last_3_feats\n",
      "item_last_1_feats\n",
      "item_last_20\n",
      "item_last_5\n",
      "item_last_2\n",
      "item_last_1\n",
      "item_last_5_feats\n",
      "item_last_3_feats\n",
      "item_last_1_feats\n",
      "item_last_20\n",
      "item_last_5\n",
      "item_last_2\n",
      "item_last_1\n",
      "item_last_5_feats\n",
      "item_last_3_feats\n",
      "item_last_1_feats\n"
     ]
    }
   ],
   "source": [
    "import mlps\n",
    "importlib.reload(mlps)\n",
    "\n",
    "\n",
    "lr = 1.5 * 1e-4\n",
    "\n",
    "def get_model(dim=256):\n",
    "    return mlps.MLP(tr_02_ds.matrices, \n",
    "                    tr_02_ds.categoricals,  \n",
    "                    tr_02_ds.tr_scalar,\n",
    "                    n_items=n_items, \n",
    "                    dim=np.random.choice([256]), \n",
    "                    layer_dim=np.random.choice([3000]),\n",
    "                    dropout=np.random.choice([0.3, 0.35]),\n",
    "                    use_cat=False,\n",
    "                    num_feats=904)\n",
    "\n",
    "softmax_models = [get_model() for x in range(10)]\n",
    "def get_opts(model):\n",
    "    wd = np.random.choice([1e-3, 3e-3])\n",
    "    return torch.optim.Adam(model.parameters(),  lr=lr, weight_decay=wd)\n",
    "\n",
    "opts = [get_opts(model) for model in softmax_models]\n",
    "for m in softmax_models:\n",
    "    m.cuda()\n",
    "    m.train()\n",
    "lf = torch.nn.CrossEntropyLoss()"
   ]
  },
  {
   "cell_type": "code",
   "execution_count": 10,
   "id": "0d584a46",
   "metadata": {},
   "outputs": [],
   "source": [
    "def validate_models(models, val_ds, use_filter=True, skip_val_only=False):\n",
    "    hr = []\n",
    "    for model in models:\n",
    "        model = model.eval()\n",
    "    s = 0\n",
    "    tot_mrr = []\n",
    "    ii = 0\n",
    "    for input in DataLoader(val_ds, batch_size=250, shuffle=True):\n",
    "        (target_idx, _), (ret_mat, ret_cat, ret_scalar) = input\n",
    "        for k in ret_mat:\n",
    "            ret_mat[k] = ret_mat[k].cuda()\n",
    "        for k in ret_cat:\n",
    "            ret_cat[k] = ret_cat[k].cuda()\n",
    "        ret_scalar = ret_scalar.cuda()\n",
    "        rret = []\n",
    "        for model in models:\n",
    "            ret = model.forward(ret_mat, ret_cat, ret_scalar,)\n",
    "            rret.append(ret)\n",
    "        ret = torch.stack(rret)\n",
    "        ret = torch.mean(ret, 0)\n",
    "        ret[ret_mat['item_bow'].bool()] = -10000.0\n",
    "        top_rec = (-ret).argsort(-1)[:, :100].detach().cpu()\n",
    "\n",
    "#         if skip_val_only:\n",
    "#         top_rec = top_rec[target_idx != 29999]\n",
    "#         target_idx = target_idx[target_idx != 29999]\n",
    "\n",
    "        mrr = (top_rec == target_idx.unsqueeze(1)).float().numpy()\n",
    "        hitst = mrr[:, :5].sum(-1)\n",
    "        mrr = (mrr / np.expand_dims(np.arange(1, 1 + 100), 0)).sum(-1)\n",
    "        tot_mrr.extend(mrr.tolist())\n",
    "        hr.extend(hitst)\n",
    "    for model in models:\n",
    "        model = model.train()\n",
    "    return np.mean(tot_mrr), np.mean(hr)"
   ]
  },
  {
   "cell_type": "code",
   "execution_count": 11,
   "id": "798703c9",
   "metadata": {},
   "outputs": [],
   "source": [
    "mrr, hr = validate_models(softmax_models, val_ds)"
   ]
  },
  {
   "cell_type": "code",
   "execution_count": 12,
   "id": "4faf3e87",
   "metadata": {},
   "outputs": [
    {
     "name": "stderr",
     "output_type": "stream",
     "text": [
      "100%|████████████████████████████████████████████████████████████████████████████████████████████| 1738/1738 [13:44<00:00,  2.11it/s, loss:=5.6146]\n",
      "100%|████████████████████████████████████████████████████████████████████████████████████████████| 1738/1738 [13:41<00:00,  2.11it/s, loss:=5.2932]\n",
      "100%|████████████████████████████████████████████████████████████████████████████████████████████| 1738/1738 [13:54<00:00,  2.08it/s, loss:=5.1969]\n",
      "100%|████████████████████████████████████████████████████████████████████████████████████████████| 1738/1738 [13:56<00:00,  2.08it/s, loss:=5.1684]\n",
      "100%|████████████████████████████████████████████████████████████████████████████████████████████| 1738/1738 [13:57<00:00,  2.07it/s, loss:=5.1507]\n",
      "100%|████████████████████████████████████████████████████████████████████████████████████████████| 1738/1738 [14:00<00:00,  2.07it/s, loss:=5.1427]\n",
      "100%|████████████████████████████████████████████████████████████████████████████████████████████| 1738/1738 [13:59<00:00,  2.07it/s, loss:=5.1318]\n",
      "100%|████████████████████████████████████████████████████████████████████████████████████████████| 1738/1738 [13:59<00:00,  2.07it/s, loss:=5.1222]\n",
      "100%|████████████████████████████████████████████████████████████████████████████████████████████| 1738/1738 [14:08<00:00,  2.05it/s, loss:=5.1205]\n",
      "100%|████████████████████████████████████████████████████████████████████████████████████████████| 1738/1738 [13:51<00:00,  2.09it/s, loss:=5.1069]\n",
      "100%|████████████████████████████████████████████████████████████████████████████████████████████| 1738/1738 [13:53<00:00,  2.08it/s, loss:=5.1065]\n",
      "100%|████████████████████████████████████████████████████████████████████████████████████████████| 1738/1738 [14:05<00:00,  2.06it/s, loss:=5.1017]\n",
      "100%|████████████████████████████████████████████████████████████████████████████████████████████| 1738/1738 [13:54<00:00,  2.08it/s, loss:=5.0946]\n",
      "100%|████████████████████████████████████████████████████████████████████████████████████████████| 1738/1738 [13:53<00:00,  2.09it/s, loss:=5.0971]\n",
      "100%|████████████████████████████████████████████████████████████████████████████████████████████| 1738/1738 [14:02<00:00,  2.06it/s, loss:=5.0928]\n",
      "100%|████████████████████████████████████████████████████████████████████████████████████████████| 1738/1738 [13:52<00:00,  2.09it/s, loss:=5.0941]\n",
      "100%|████████████████████████████████████████████████████████████████████████████████████████████| 1738/1738 [13:56<00:00,  2.08it/s, loss:=5.0888]\n",
      "100%|████████████████████████████████████████████████████████████████████████████████████████████| 1738/1738 [10:39<00:00,  2.72it/s, loss:=5.0893]\n",
      "100%|████████████████████████████████████████████████████████████████████████████████████████████| 1738/1738 [05:36<00:00,  5.16it/s, loss:=5.0845]\n",
      "100%|████████████████████████████████████████████████████████████████████████████████████████████| 1738/1738 [05:38<00:00,  5.13it/s, loss:=5.0832]\n",
      "100%|████████████████████████████████████████████████████████████████████████████████████████████| 1738/1738 [05:38<00:00,  5.13it/s, loss:=5.0833]\n"
     ]
    },
    {
     "name": "stdout",
     "output_type": "stream",
     "text": [
      "[ITER 21] VAL MRR: 0.32402888583981676 HR 0.43\n"
     ]
    },
    {
     "name": "stderr",
     "output_type": "stream",
     "text": [
      "100%|████████████████████████████████████████████████████████████████████████████████████████████| 1738/1738 [05:38<00:00,  5.14it/s, loss:=5.0837]\n"
     ]
    },
    {
     "name": "stdout",
     "output_type": "stream",
     "text": [
      "[ITER 22] VAL MRR: 0.3242977234834082 HR 0.43166667\n"
     ]
    },
    {
     "name": "stderr",
     "output_type": "stream",
     "text": [
      "100%|████████████████████████████████████████████████████████████████████████████████████████████| 1738/1738 [05:40<00:00,  5.11it/s, loss:=5.0843]\n"
     ]
    },
    {
     "name": "stdout",
     "output_type": "stream",
     "text": [
      "[ITER 23] VAL MRR: 0.32278695847781014 HR 0.43066666\n"
     ]
    },
    {
     "name": "stderr",
     "output_type": "stream",
     "text": [
      "100%|████████████████████████████████████████████████████████████████████████████████████████████| 1738/1738 [05:32<00:00,  5.23it/s, loss:=5.0808]\n"
     ]
    },
    {
     "name": "stdout",
     "output_type": "stream",
     "text": [
      "[ITER 24] VAL MRR: 0.3244885693665804 HR 0.42933333\n"
     ]
    },
    {
     "name": "stderr",
     "output_type": "stream",
     "text": [
      "100%|████████████████████████████████████████████████████████████████████████████████████████████| 1738/1738 [05:34<00:00,  5.20it/s, loss:=5.0829]\n"
     ]
    },
    {
     "name": "stdout",
     "output_type": "stream",
     "text": [
      "[ITER 25] VAL MRR: 0.32352069798643796 HR 0.42633334\n"
     ]
    },
    {
     "name": "stderr",
     "output_type": "stream",
     "text": [
      "100%|████████████████████████████████████████████████████████████████████████████████████████████| 1738/1738 [05:34<00:00,  5.20it/s, loss:=5.0792]\n"
     ]
    },
    {
     "name": "stdout",
     "output_type": "stream",
     "text": [
      "[ITER 26] VAL MRR: 0.32410612714217124 HR 0.43066666\n"
     ]
    },
    {
     "name": "stderr",
     "output_type": "stream",
     "text": [
      "100%|████████████████████████████████████████████████████████████████████████████████████████████| 1738/1738 [05:35<00:00,  5.18it/s, loss:=5.0764]\n"
     ]
    },
    {
     "name": "stdout",
     "output_type": "stream",
     "text": [
      "[ITER 27] VAL MRR: 0.3238551923892453 HR 0.43\n"
     ]
    },
    {
     "name": "stderr",
     "output_type": "stream",
     "text": [
      "100%|████████████████████████████████████████████████████████████████████████████████████████████| 1738/1738 [05:36<00:00,  5.17it/s, loss:=5.0765]\n"
     ]
    },
    {
     "name": "stdout",
     "output_type": "stream",
     "text": [
      "[ITER 28] VAL MRR: 0.3242955147345098 HR 0.43\n"
     ]
    },
    {
     "name": "stderr",
     "output_type": "stream",
     "text": [
      "100%|████████████████████████████████████████████████████████████████████████████████████████████| 1738/1738 [05:34<00:00,  5.19it/s, loss:=5.0791]\n"
     ]
    },
    {
     "name": "stdout",
     "output_type": "stream",
     "text": [
      "[ITER 29] VAL MRR: 0.3249265835189773 HR 0.42866668\n"
     ]
    },
    {
     "name": "stderr",
     "output_type": "stream",
     "text": [
      "100%|████████████████████████████████████████████████████████████████████████████████████████████| 1738/1738 [05:35<00:00,  5.17it/s, loss:=5.0813]\n"
     ]
    },
    {
     "name": "stdout",
     "output_type": "stream",
     "text": [
      "[ITER 30] VAL MRR: 0.3240898431365562 HR 0.42966667\n"
     ]
    }
   ],
   "source": [
    "tr_dl = DataLoader(tr_02_ds,\n",
    "                   batch_size=256, shuffle=False,\n",
    "                   num_workers=8, prefetch_factor=2,\n",
    "#                    persistent_workers=True,\n",
    "                   pin_memory=True)\n",
    "\n",
    "loss_ = np.log(n_items)\n",
    "max_mrr = -1\n",
    "for epoch in range(30):\n",
    "    it = 0\n",
    "    iidx = 0\n",
    "    pbar = tqdm(tr_dl)\n",
    "    for x in pbar:\n",
    "        (target_idx, mask), (mats, cats, scalars) = x\n",
    "        target_idx = target_idx.cuda()\n",
    "        mask = mask.cuda().squeeze(1)\n",
    "        \n",
    "        for k in mats:\n",
    "            mats[k] = mats[k].cuda()\n",
    "        for k in cats:\n",
    "            cats[k] = cats[k].cuda()\n",
    "#         cats = {}\n",
    "        scalars = scalars.cuda()\n",
    "        for model, optimizer in zip(softmax_models, opts):\n",
    "            model.zero_grad()\n",
    "            pred = model(mats, cats, scalars)\n",
    "            pred[mask.bool()] = -10000.0\n",
    "            ce_loss = lf(pred, target_idx).mean()        \n",
    "            loss = ce_loss\n",
    "            loss.mean().backward()\n",
    "            optimizer.step()\n",
    "        loss_ = 0.99 * loss_  + 0.01 * loss.detach().cpu().numpy()\n",
    "        pbar.set_postfix({'loss:': \"%0.4f\" % loss_})\n",
    "\n",
    "    model = softmax_models[0]\n",
    "    model = model.eval()\n",
    "    mrr, hr = validate_models(softmax_models, val_ds)\n",
    "    \n",
    "    if epoch < 20:\n",
    "        continue\n",
    "    \n",
    "    if mrr >= max_mrr:\n",
    "        torch.save(softmax_models, 'submit_softmax_model_no_shuffle')\n",
    "        max_mrr = mrr \n",
    "    print(\"[ITER %d] VAL MRR:\" % (1 + epoch), mrr, \"HR\", hr)\n",
    "    model = model.train()\n",
    "    model.cuda()\n"
   ]
  },
  {
   "cell_type": "markdown",
   "id": "43cf3037",
   "metadata": {},
   "source": [
    "softmax_models = torch.load('submit_softmax_model')\n",
    "softmax_models = [m.cuda().eval() for m in softmax_models]"
   ]
  },
  {
   "cell_type": "code",
   "execution_count": 40,
   "id": "5cbdd4d7",
   "metadata": {},
   "outputs": [],
   "source": [
    "softmax_models = torch.load('submit_softmax_model_no_shuffle')"
   ]
  },
  {
   "cell_type": "code",
   "execution_count": 41,
   "id": "9548fff6",
   "metadata": {},
   "outputs": [],
   "source": [
    "softmax_models = [model.cuda().eval() for model in softmax_models]"
   ]
  },
  {
   "cell_type": "code",
   "execution_count": 42,
   "id": "64aea5bc",
   "metadata": {},
   "outputs": [],
   "source": [
    "mrr, hr = validate_models(softmax_models, val_ds)"
   ]
  },
  {
   "cell_type": "code",
   "execution_count": 43,
   "id": "4f01e93f",
   "metadata": {},
   "outputs": [
    {
     "data": {
      "text/plain": [
       "(0.32492658351897724, 0.42866668)"
      ]
     },
     "execution_count": 43,
     "metadata": {},
     "output_type": "execute_result"
    }
   ],
   "source": [
    "mrr, hr"
   ]
  },
  {
   "cell_type": "code",
   "execution_count": 44,
   "id": "fddf1af2",
   "metadata": {},
   "outputs": [],
   "source": [
    "l_dl = DataLoader(l_ds, batch_size=250, shuffle=False, num_workers=8)"
   ]
  },
  {
   "cell_type": "code",
   "execution_count": 45,
   "id": "1dc11bdb",
   "metadata": {
    "scrolled": true
   },
   "outputs": [
    {
     "name": "stderr",
     "output_type": "stream",
     "text": [
      "100%|██████████████████████████████████████████████████████████████████████████████████████| 200/200 [00:26<00:00,  7.64it/s]\n"
     ]
    }
   ],
   "source": [
    "ret = []\n",
    "softmax_models = [model.cuda().eval() for model in softmax_models]\n",
    "for x in tqdm(l_dl):\n",
    "    (target_idx, mask), (mats, cats, scalars) = x\n",
    "    target_idx = target_idx.cuda()\n",
    "    mask = mask.cuda().squeeze(1)\n",
    "\n",
    "    for k in mats:\n",
    "        mats[k] = mats[k].cuda()\n",
    "    for k in cats:\n",
    "        cats[k] = cats[k].cuda()\n",
    "#         cats = {}\n",
    "    scalars = scalars.cuda()\n",
    "    preds = []\n",
    "    for model in softmax_models:\n",
    "        model.zero_grad()\n",
    "        pred = model(mats, cats, scalars)\n",
    "        preds.append(pred)\n",
    "    pred = torch.stack(preds, 0).mean(0)\n",
    "    pred[mask.bool()] = -100000.0\n",
    "    ret.append(pred.cpu().detach().numpy())"
   ]
  },
  {
   "cell_type": "code",
   "execution_count": 46,
   "id": "166fed24",
   "metadata": {},
   "outputs": [],
   "source": [
    "ret = np.vstack(ret)"
   ]
  },
  {
   "cell_type": "code",
   "execution_count": 47,
   "id": "c890d5d8",
   "metadata": {},
   "outputs": [],
   "source": [
    "def new_logit_map(logits, idmap):\n",
    "    new_map = np.ones(shape=(logits.shape[0], np.max(list(final_idmap.values())) + 1)) * -100000.0\n",
    "    idmap = [final_idmap[idx2id[x]] for x in range(len(idx2id))]\n",
    "    new_map[:, idmap] = logits\n",
    "    return new_map"
   ]
  },
  {
   "cell_type": "code",
   "execution_count": 48,
   "id": "59071d34",
   "metadata": {},
   "outputs": [],
   "source": [
    "leaderboard_logits = new_logit_map(ret, idmap)"
   ]
  },
  {
   "cell_type": "code",
   "execution_count": 49,
   "id": "05b8ede9",
   "metadata": {},
   "outputs": [],
   "source": [
    "f_dl = DataLoader(l_ds, batch_size=250, shuffle=False, num_workers=8)"
   ]
  },
  {
   "cell_type": "code",
   "execution_count": 50,
   "id": "096acf36",
   "metadata": {},
   "outputs": [
    {
     "name": "stderr",
     "output_type": "stream",
     "text": [
      "100%|██████████████████████████████████████████████████████████████████████████████████████| 200/200 [00:28<00:00,  6.94it/s]\n"
     ]
    }
   ],
   "source": [
    "ret = []\n",
    "softmax_models = [model.cuda().eval() for model in softmax_models]\n",
    "for x in tqdm(f_dl):\n",
    "    (target_idx, mask), (mats, cats, scalars) = x\n",
    "    target_idx = target_idx.cuda()\n",
    "    mask = mask.cuda().squeeze(1)\n",
    "\n",
    "    for k in mats:\n",
    "        mats[k] = mats[k].cuda()\n",
    "    for k in cats:\n",
    "        cats[k] = cats[k].cuda()\n",
    "#         cats = {}\n",
    "    scalars = scalars.cuda()\n",
    "    preds = []\n",
    "    for model in softmax_models:\n",
    "        model.zero_grad()\n",
    "        pred = model(mats, cats, scalars)\n",
    "        preds.append(pred)\n",
    "    pred = torch.stack(preds, 0).mean(0)\n",
    "    pred[mask.bool()] = -100000.0\n",
    "    ret.append(pred.cpu().detach().numpy())"
   ]
  },
  {
   "cell_type": "code",
   "execution_count": 51,
   "id": "032359e6",
   "metadata": {},
   "outputs": [],
   "source": [
    "ret = np.vstack(ret)"
   ]
  },
  {
   "cell_type": "code",
   "execution_count": 52,
   "id": "934e8bb1",
   "metadata": {},
   "outputs": [],
   "source": [
    "final_logits = new_logit_map(ret, idmap)"
   ]
  },
  {
   "cell_type": "code",
   "execution_count": 53,
   "id": "279b3247",
   "metadata": {},
   "outputs": [
    {
     "data": {
      "text/plain": [
       "1657099744.6056175"
      ]
     },
     "execution_count": 53,
     "metadata": {},
     "output_type": "execute_result"
    }
   ],
   "source": [
    "import time\n",
    "time.time()"
   ]
  },
  {
   "cell_type": "code",
   "execution_count": 62,
   "id": "d76a19ff",
   "metadata": {},
   "outputs": [],
   "source": [
    "!rm -rf ../logits/leader/mlp-*"
   ]
  },
  {
   "cell_type": "code",
   "execution_count": 63,
   "id": "041c1305",
   "metadata": {},
   "outputs": [],
   "source": [
    "!rm -rf ../logits/final/mlp-*"
   ]
  },
  {
   "cell_type": "code",
   "execution_count": 66,
   "id": "4a5aa30a",
   "metadata": {},
   "outputs": [
    {
     "data": {
      "text/plain": [
       "(50000, 23691)"
      ]
     },
     "execution_count": 66,
     "metadata": {},
     "output_type": "execute_result"
    }
   ],
   "source": [
    "final_logits.shape"
   ]
  },
  {
   "cell_type": "code",
   "execution_count": 65,
   "id": "792d5549",
   "metadata": {},
   "outputs": [
    {
     "data": {
      "text/plain": [
       "['../logits/final/mlp-noshuffle-1657099888']"
      ]
     },
     "execution_count": 65,
     "metadata": {},
     "output_type": "execute_result"
    }
   ],
   "source": [
    "import os\n",
    "os.makedirs(\"../logits/leader\", exist_ok=True)\n",
    "os.makedirs(\"../logits/final\", exist_ok=True)\n",
    "joblib.dump(\n",
    "    (l_csv.session_id.tolist(), leaderboard_logits),\n",
    "    \"../logits/leader/mlp-noshuffle-%d\" % int(time.time()))\n",
    "\n",
    "joblib.dump(\n",
    "    (f_csv.session_id.tolist(), final_logits),\n",
    "    \"../logits/final/mlp-noshuffle-%d\" % int(time.time()))"
   ]
  },
  {
   "cell_type": "markdown",
   "id": "5a3dd7cc",
   "metadata": {},
   "source": [
    "cands = pd.read_csv('../data/candidate_items.csv', dtype=str).item_id.tolist()\n",
    "cands = set(cands)"
   ]
  },
  {
   "cell_type": "markdown",
   "id": "90f5ebae",
   "metadata": {},
   "source": [
    "len(cands)"
   ]
  },
  {
   "cell_type": "markdown",
   "id": "12617ad6",
   "metadata": {},
   "source": [
    "_ret = ret + ret2"
   ]
  },
  {
   "cell_type": "markdown",
   "id": "692b9790",
   "metadata": {},
   "source": [
    "ls \"/data/project/rw/recsys2022/ensemble/mlp/\""
   ]
  },
  {
   "cell_type": "markdown",
   "id": "57efaa2b",
   "metadata": {},
   "source": [
    "topks = (-_ret).argsort(-1)[:, :300]"
   ]
  },
  {
   "cell_type": "markdown",
   "id": "e37db5ac",
   "metadata": {},
   "source": [
    "df = {\n",
    "    'session_id': [],\n",
    "    'item_id': [],\n",
    "    'rank': [],\n",
    "}\n",
    "for sid, topk in  zip(l_csv.session_id, topks):\n",
    "#     print(sid, recs)\n",
    "    recs = [idx2id[x] for x in topk]\n",
    "    recs = [x for x in recs if x in cands][:100]\n",
    "    if len(recs) < 100:\n",
    "        print(len(recs))\n",
    "    for rank, rec in zip(range(1, 101), recs):\n",
    "        df['session_id'].append(sid)\n",
    "        df['item_id'].append(rec)\n",
    "        df['rank'].append(rank)"
   ]
  },
  {
   "cell_type": "markdown",
   "id": "dcfa97da",
   "metadata": {},
   "source": [
    "df = pd.DataFrame(df)"
   ]
  },
  {
   "cell_type": "markdown",
   "id": "070f0cfa",
   "metadata": {},
   "source": [
    "df['session_id'] = df['session_id'].apply(lambda x: int(x))"
   ]
  },
  {
   "cell_type": "markdown",
   "id": "bdb970cf",
   "metadata": {},
   "source": [
    "df = df.sort_values(by=['session_id', 'rank'])"
   ]
  },
  {
   "cell_type": "markdown",
   "id": "6cc4b055",
   "metadata": {},
   "source": [
    "df.to_csv(\"df_noshuffle_shuffle_together.csv\", index=False)"
   ]
  },
  {
   "cell_type": "markdown",
   "id": "52435e9b",
   "metadata": {},
   "source": [
    "sample = pd.read_csv(\"../sample.csv\", dtype=str).sort_values(by=['session_id', 'rank']).reset_index(drop=True)"
   ]
  },
  {
   "cell_type": "markdown",
   "id": "15cf36d1",
   "metadata": {},
   "source": [
    "df = pd.read_csv(\"df_1.csv\", dtype=str).sort_values(by=['session_id', 'rank']).reset_index(drop=True)"
   ]
  },
  {
   "cell_type": "markdown",
   "id": "d52ebc03",
   "metadata": {},
   "source": [
    "a = set(sample['item_id'].tolist()) - cands\n",
    "len(a)"
   ]
  },
  {
   "cell_type": "markdown",
   "id": "1a21bf1e",
   "metadata": {},
   "source": [
    "df.to_csv(\"ret\",index=False)"
   ]
  },
  {
   "cell_type": "markdown",
   "id": "0e3026c5",
   "metadata": {},
   "source": [
    "ls -al /data/project/rw/recsys2022/recsys2022.git/data"
   ]
  },
  {
   "cell_type": "markdown",
   "id": "10deb4c6",
   "metadata": {},
   "source": []
  }
 ],
 "metadata": {
  "kernelspec": {
   "display_name": "Python 3 (ipykernel)",
   "language": "python",
   "name": "python3"
  },
  "language_info": {
   "codemirror_mode": {
    "name": "ipython",
    "version": 3
   },
   "file_extension": ".py",
   "mimetype": "text/x-python",
   "name": "python",
   "nbconvert_exporter": "python",
   "pygments_lexer": "ipython3",
   "version": "3.8.12"
  }
 },
 "nbformat": 4,
 "nbformat_minor": 5
}
